{
 "cells": [
  {
   "cell_type": "code",
   "execution_count": null,
   "metadata": {},
   "outputs": [],
   "source": [
    "from sklearn.cluster import AgglomerativeClustering\n",
    "from matplotlib import pyplot as plt\n",
    "from pytesseract import Output\n",
    "from tabulate import tabulate\n",
    "import pytesseract\n",
    "import imutils\n",
    "import pandas as pd\n",
    "import numpy as np\n",
    "import cv2"
   ]
  },
  {
   "cell_type": "code",
   "execution_count": null,
   "metadata": {},
   "outputs": [],
   "source": [
    "df = pd.read_excel(\"./Outputs/Doc1/sheet.xlsx\")"
   ]
  },
  {
   "cell_type": "code",
   "execution_count": null,
   "metadata": {},
   "outputs": [],
   "source": [
    "df.head(50)"
   ]
  },
  {
   "cell_type": "code",
   "execution_count": null,
   "metadata": {},
   "outputs": [],
   "source": [
    "df = df[df[\"Si /PERIN FENDENCIA\"].notna()]"
   ]
  },
  {
   "cell_type": "code",
   "execution_count": null,
   "metadata": {},
   "outputs": [],
   "source": [
    "df.head(10)"
   ]
  },
  {
   "cell_type": "code",
   "execution_count": null,
   "metadata": {},
   "outputs": [],
   "source": [
    "#delete first row\n",
    "df.drop([2],axis=0, inplace=True)\n",
    "df.head(10)"
   ]
  },
  {
   "cell_type": "code",
   "execution_count": null,
   "metadata": {},
   "outputs": [],
   "source": [
    "\"\"\"\n",
    "The main difference between pandas loc[] vs iloc[] is loc gets DataFrame\n",
    "rows & columns by labels/names and iloc[] gets by integer Index/position. \n",
    "\n",
    "cad: str = df.iloc[16]\n",
    "for k in cad:\n",
    "    print(k,end=\" \")\n",
    "\"\"\""
   ]
  },
  {
   "cell_type": "code",
   "execution_count": null,
   "metadata": {},
   "outputs": [],
   "source": [
    "df.head(8)"
   ]
  },
  {
   "cell_type": "code",
   "execution_count": null,
   "metadata": {},
   "outputs": [],
   "source": [
    "df.iloc[0:7]"
   ]
  },
  {
   "cell_type": "code",
   "execution_count": null,
   "metadata": {},
   "outputs": [],
   "source": [
    "columnas = []\n",
    "\n",
    "for index, row in df.iloc[0:7].iterrows():\n",
    "    columnas.append(row.tolist())"
   ]
  },
  {
   "cell_type": "code",
   "execution_count": null,
   "metadata": {},
   "outputs": [],
   "source": [
    "columnas"
   ]
  },
  {
   "cell_type": "code",
   "execution_count": null,
   "metadata": {},
   "outputs": [],
   "source": [
    "columnas[0]\n",
    "columnas = [item for sublist in columnas for item in sublist]"
   ]
  },
  {
   "cell_type": "code",
   "execution_count": null,
   "metadata": {},
   "outputs": [],
   "source": [
    "columnas"
   ]
  },
  {
   "cell_type": "code",
   "execution_count": null,
   "metadata": {},
   "outputs": [],
   "source": [
    "#RAZÓN SOCIAL\n",
    "position = columnas[0].find(\"J\")                    \n",
    "columnas[0] = columnas[0][0:position]"
   ]
  },
  {
   "cell_type": "code",
   "execution_count": null,
   "metadata": {},
   "outputs": [],
   "source": [
    "#DIRECCION, EXPEDIENTE, RUC, AÑO, FORMULARIO\n",
    "positions = [k.find(\" \") for k in columnas[1:6] ]"
   ]
  },
  {
   "cell_type": "code",
   "execution_count": null,
   "metadata": {},
   "outputs": [],
   "source": [
    "positions"
   ]
  },
  {
   "cell_type": "code",
   "execution_count": null,
   "metadata": {},
   "outputs": [],
   "source": [
    "columnas[1] = columnas[1][0:positions[0]]\n",
    "columnas[2] = columnas[2][0:positions[1]]\n",
    "columnas[3] = columnas[3][0:positions[2]]\n",
    "columnas[4] = columnas[4][0:positions[3]]\n",
    "columnas[5] = columnas[5][0:positions[4]]"
   ]
  },
  {
   "cell_type": "code",
   "execution_count": null,
   "metadata": {},
   "outputs": [],
   "source": [
    "df.head(25)"
   ]
  },
  {
   "cell_type": "code",
   "execution_count": null,
   "metadata": {},
   "outputs": [],
   "source": [
    "for index, row in df.iloc[6:].iterrows():\n",
    "    columnas.append(row.tolist())"
   ]
  },
  {
   "cell_type": "code",
   "execution_count": null,
   "metadata": {},
   "outputs": [],
   "source": [
    "columnas"
   ]
  },
  {
   "cell_type": "code",
   "execution_count": null,
   "metadata": {},
   "outputs": [],
   "source": [
    "columnas_aplanadas = []\n",
    "\n",
    "for elemento in columnas:\n",
    "    if isinstance(elemento, list):\n",
    "        columnas_aplanadas.extend(elemento)\n",
    "    else:\n",
    "        columnas_aplanadas.append(elemento)\n",
    "\n",
    "columnas_aplanadas = [str(item) for item in columnas_aplanadas]"
   ]
  },
  {
   "cell_type": "code",
   "execution_count": null,
   "metadata": {},
   "outputs": [],
   "source": [
    "columnas_aplanadas"
   ]
  },
  {
   "cell_type": "code",
   "execution_count": null,
   "metadata": {},
   "outputs": [],
   "source": [
    "import re"
   ]
  },
  {
   "cell_type": "code",
   "execution_count": null,
   "metadata": {},
   "outputs": [],
   "source": [
    "def getCuentaTexto(elemento):\n",
    "    match = re.match(r'^([^0-9]+)', elemento)\n",
    "    return match.group(1) if match else elemento\n",
    "\n",
    "columnas_texto = [getCuentaTexto(item) for item in columnas_aplanadas]"
   ]
  },
  {
   "cell_type": "code",
   "execution_count": null,
   "metadata": {},
   "outputs": [],
   "source": [
    "columnas_texto"
   ]
  },
  {
   "cell_type": "code",
   "execution_count": null,
   "metadata": {},
   "outputs": [],
   "source": [
    "def getCodigoValor(elemento):\n",
    "    match = re.match(r'^([^\\d]+)(\\d+\\.\\d+)$', elemento)\n",
    "    if match:\n",
    "        return match.group(1), match.group(2)\n",
    "    return None, None"
   ]
  },
  {
   "cell_type": "code",
   "execution_count": null,
   "metadata": {},
   "outputs": [],
   "source": [
    "codigos, valores = zip(*[getCodigoValor(item) for item in columnas_aplanadas])\n",
    "print(\"Lista de códigos:\", codigos)\n",
    "print(\"Lista de valores en dólares:\", valores)"
   ]
  }
 ],
 "metadata": {
  "kernelspec": {
   "display_name": "Python 3",
   "language": "python",
   "name": "python3"
  },
  "language_info": {
   "codemirror_mode": {
    "name": "ipython",
    "version": 3
   },
   "file_extension": ".py",
   "mimetype": "text/x-python",
   "name": "python",
   "nbconvert_exporter": "python",
   "pygments_lexer": "ipython3",
   "version": "3.10.10"
  }
 },
 "nbformat": 4,
 "nbformat_minor": 2
}
