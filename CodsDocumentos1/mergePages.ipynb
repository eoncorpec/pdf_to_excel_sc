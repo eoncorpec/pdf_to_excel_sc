{
 "cells": [
  {
   "cell_type": "code",
   "execution_count": 1,
   "metadata": {},
   "outputs": [
    {
     "name": "stderr",
     "output_type": "stream",
     "text": [
      "C:\\Users\\Usuario\\AppData\\Local\\Temp\\ipykernel_16888\\2937650959.py:1: DeprecationWarning: \n",
      "Pyarrow will become a required dependency of pandas in the next major release of pandas (pandas 3.0),\n",
      "(to allow more performant data types, such as the Arrow string type, and better interoperability with other libraries)\n",
      "but was not found to be installed on your system.\n",
      "If this would cause problems for you,\n",
      "please provide us feedback at https://github.com/pandas-dev/pandas/issues/54466\n",
      "        \n",
      "  import pandas as pd\n"
     ]
    }
   ],
   "source": [
    "import pandas as pd\n",
    "import numpy as np\n"
   ]
  },
  {
   "cell_type": "code",
   "execution_count": 2,
   "metadata": {},
   "outputs": [],
   "source": [
    "df1 = pd.read_excel(\"./Outputs/Doc1/FirstPage.xlsx\")"
   ]
  },
  {
   "cell_type": "code",
   "execution_count": 3,
   "metadata": {},
   "outputs": [],
   "source": [
    "df2 = pd.read_excel(\"./Outputs/Doc1/AllPages.xlsx\")"
   ]
  },
  {
   "cell_type": "code",
   "execution_count": 4,
   "metadata": {},
   "outputs": [],
   "source": [
    "cocatenacion = pd.concat([df1, df2], axis=1)"
   ]
  },
  {
   "cell_type": "code",
   "execution_count": 5,
   "metadata": {},
   "outputs": [
    {
     "data": {
      "text/html": [
       "<div>\n",
       "<style scoped>\n",
       "    .dataframe tbody tr th:only-of-type {\n",
       "        vertical-align: middle;\n",
       "    }\n",
       "\n",
       "    .dataframe tbody tr th {\n",
       "        vertical-align: top;\n",
       "    }\n",
       "\n",
       "    .dataframe thead th {\n",
       "        text-align: right;\n",
       "    }\n",
       "</style>\n",
       "<table border=\"1\" class=\"dataframe\">\n",
       "  <thead>\n",
       "    <tr style=\"text-align: right;\">\n",
       "      <th></th>\n",
       "      <th>ACTIVO</th>\n",
       "      <th>ACTIVO CORRIENTE</th>\n",
       "      <th>EFECTIVO Y EQUIVALENTES DE EFECTIVO</th>\n",
       "      <th>CAJA</th>\n",
       "      <th>INSTITUCIONES FINANCIERAS PUBLICAS</th>\n",
       "      <th>INSTITUCIGNES FINANCIERAS PRIVADAS.</th>\n",
       "      <th>ACTIVOS FINANCIEROS</th>\n",
       "      <th>ACTIVOS FINANCIEROS A VALOR RAZONABLE CON CAMBIOS EN RESULTADOS,</th>\n",
       "      <th>RENTA VARIABLE.</th>\n",
       "      <th>ACCIONES Y PARTICIPACIONES.</th>\n",
       "      <th>...</th>\n",
       "      <th>(-} PERDIDAS ACUMULADAS</th>\n",
       "      <th>RESULTADOS ACUMULADOS PROVENIENTES DE LA ADOPCION POR PRIMERA VEZ DE LAS NIIF</th>\n",
       "      <th>RESERVA DE CAPITAL.</th>\n",
       "      <th>RESERVA POR DONACIONES</th>\n",
       "      <th>RESERVA POR VALUACION</th>\n",
       "      <th>SUPERAVIT POR REVALUACION DE INVERSIONES</th>\n",
       "      <th>RESULTADOS DEL EJERCICIO</th>\n",
       "      <th>GANANCIA NETA DEL PERIODO</th>\n",
       "      <th>()} PERDIDA NETA DEL PERIODO</th>\n",
       "      <th>PARTICIPACION CONTROLADORA</th>\n",
       "    </tr>\n",
       "  </thead>\n",
       "  <tbody>\n",
       "    <tr>\n",
       "      <th>0</th>\n",
       "      <td>100.0</td>\n",
       "      <td>100.0</td>\n",
       "      <td>100.0</td>\n",
       "      <td>0.0</td>\n",
       "      <td>0.0</td>\n",
       "      <td>100.0</td>\n",
       "      <td>0.0</td>\n",
       "      <td>0.0</td>\n",
       "      <td>0.0</td>\n",
       "      <td>0.0</td>\n",
       "      <td>...</td>\n",
       "      <td>0.0</td>\n",
       "      <td>0.0</td>\n",
       "      <td>0.0</td>\n",
       "      <td>0.0</td>\n",
       "      <td>0.0</td>\n",
       "      <td>0.0</td>\n",
       "      <td>0.0</td>\n",
       "      <td>0.0</td>\n",
       "      <td>0.0</td>\n",
       "      <td>3</td>\n",
       "    </tr>\n",
       "  </tbody>\n",
       "</table>\n",
       "<p>1 rows × 339 columns</p>\n",
       "</div>"
      ],
      "text/plain": [
       "   ACTIVO   ACTIVO CORRIENTE   EFECTIVO Y EQUIVALENTES DE EFECTIVO   CAJA   \\\n",
       "0    100.0              100.0                                 100.0    0.0   \n",
       "\n",
       "   INSTITUCIONES FINANCIERAS PUBLICAS   INSTITUCIGNES FINANCIERAS PRIVADAS.   \\\n",
       "0                                  0.0                                 100.0   \n",
       "\n",
       "   ACTIVOS FINANCIEROS   \\\n",
       "0                   0.0   \n",
       "\n",
       "   ACTIVOS FINANCIEROS A VALOR RAZONABLE CON CAMBIOS EN RESULTADOS,   \\\n",
       "0                                                0.0                   \n",
       "\n",
       "   RENTA VARIABLE.   ACCIONES Y PARTICIPACIONES.   ...  \\\n",
       "0               0.0                           0.0  ...   \n",
       "\n",
       "   (-} PERDIDAS ACUMULADAS   \\\n",
       "0                       0.0   \n",
       "\n",
       "   RESULTADOS ACUMULADOS PROVENIENTES DE LA ADOPCION POR PRIMERA VEZ DE LAS NIIF   \\\n",
       "0                                                0.0                                \n",
       "\n",
       "   RESERVA DE CAPITAL.   RESERVA POR DONACIONES   RESERVA POR VALUACION   \\\n",
       "0                   0.0                      0.0                     0.0   \n",
       "\n",
       "   SUPERAVIT POR REVALUACION DE INVERSIONES   RESULTADOS DEL EJERCICIO   \\\n",
       "0                                        0.0                        0.0   \n",
       "\n",
       "   GANANCIA NETA DEL PERIODO   ()} PERDIDA NETA DEL PERIODO   \\\n",
       "0                         0.0                            0.0   \n",
       "\n",
       "   PARTICIPACION CONTROLADORA  \n",
       "0                           3  \n",
       "\n",
       "[1 rows x 339 columns]"
      ]
     },
     "execution_count": 5,
     "metadata": {},
     "output_type": "execute_result"
    }
   ],
   "source": [
    "cocatenacion"
   ]
  },
  {
   "cell_type": "code",
   "execution_count": 8,
   "metadata": {},
   "outputs": [],
   "source": [
    "output_excel_file = \"./Outputs/Doc1/Doc1Resume.xlsx\"\n",
    "cocatenacion.to_excel(output_excel_file,index=False, float_format=\"%.2f\")"
   ]
  },
  {
   "cell_type": "code",
   "execution_count": null,
   "metadata": {},
   "outputs": [],
   "source": []
  }
 ],
 "metadata": {
  "kernelspec": {
   "display_name": "Python 3",
   "language": "python",
   "name": "python3"
  },
  "language_info": {
   "codemirror_mode": {
    "name": "ipython",
    "version": 3
   },
   "file_extension": ".py",
   "mimetype": "text/x-python",
   "name": "python",
   "nbconvert_exporter": "python",
   "pygments_lexer": "ipython3",
   "version": "3.10.10"
  }
 },
 "nbformat": 4,
 "nbformat_minor": 2
}
