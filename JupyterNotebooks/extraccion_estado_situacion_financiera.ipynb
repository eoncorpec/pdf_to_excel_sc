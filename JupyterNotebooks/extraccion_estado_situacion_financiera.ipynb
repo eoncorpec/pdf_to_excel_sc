{
 "cells": [
  {
   "cell_type": "code",
   "execution_count": 1,
   "id": "5abd4ad2",
   "metadata": {},
   "outputs": [],
   "source": [
    "# Cargar librerias necesarias"
   ]
  },
  {
   "cell_type": "markdown",
   "id": "29ce9e29",
   "metadata": {},
   "source": [
    "Como te darás cuenta aqui hay 3 diferentes empresas, se identifican por el número de expediente, asi mismo tambien el codigo \\_3_1_1_ indica que es un archivo de estado situación Financiera, los últimos datos es la fecha y hora subida la información 2020_12_31_00_00_00_000\n",
    "\n",
    "**Para utilizar un archivo comentar el resto**"
   ]
  },
  {
   "cell_type": "code",
   "execution_count": 2,
   "id": "304792bf",
   "metadata": {},
   "outputs": [],
   "source": [
    "# Archivos en la carpeta Input que tienen información de situación financiera\n",
    "\n",
    "#pdf=\"../Inputs/DocEconomica_384_3_1_1_2020_12_31_00_00_00_000.pdf\"\n",
    "#pdf=\"../Inputs/DocEconomica_384_3_1_1_2021_12_31_00_00_00_000.pdf\"\n",
    "#pdf=\"../Inputs/DocEconomica_384_3_1_1_2022_12_31_00_00_00_000.pdf\"\n",
    "pdf=\"../Inputs/DocEconomica_6712_3_1_1_2020_12_31_00_00_00_000.pdf\"\n",
    "#pdf=\"../Inputs/DocEconomica_6712_3_1_1_2021_12_31_00_00_00_000.pdf\"\n",
    "#pdf=\"../Inputs/DocEconomica_6712_3_1_1_2022_12_31_00_00_00_000.pdf\"\n",
    "#pdf=\"../Inputs/DocEconomica_736008_3_1_1_2021_12_31_00_00_00_000.pdf\"\n",
    "#pdf=\"../Inputs/DocEconomica_736008_3_1_1_2022_12_31_00_00_00_000.pdf\""
   ]
  },
  {
   "cell_type": "code",
   "execution_count": 3,
   "id": "7ecd46a0",
   "metadata": {},
   "outputs": [],
   "source": [
    "# Dirección y nombre del archivo de salida\n",
    "excel_output = \"../Outputs/estados_situacion_financiera.xlsx\""
   ]
  },
  {
   "cell_type": "markdown",
   "id": "1b0e75ce",
   "metadata": {},
   "source": [
    "De aqui en adelante escribir el codigo pertinente para extraer la información.\n",
    "\n",
    "\n",
    "La salida debe ser acumulativa, en cada ejecución completa siempre en el mismo archivo. Ver el issue en github [Issue](https://github.com/eoncorpec/pdf_to_excel_sc/issues/8)"
   ]
  },
  {
   "cell_type": "code",
   "execution_count": null,
   "id": "94fa0ae3",
   "metadata": {},
   "outputs": [],
   "source": []
  },
  {
   "cell_type": "code",
   "execution_count": null,
   "id": "54819df5",
   "metadata": {},
   "outputs": [],
   "source": []
  }
 ],
 "metadata": {
  "kernelspec": {
   "display_name": "Python 3 (ipykernel)",
   "language": "python",
   "name": "python3"
  },
  "language_info": {
   "codemirror_mode": {
    "name": "ipython",
    "version": 3
   },
   "file_extension": ".py",
   "mimetype": "text/x-python",
   "name": "python",
   "nbconvert_exporter": "python",
   "pygments_lexer": "ipython3",
   "version": "3.9.2"
  }
 },
 "nbformat": 4,
 "nbformat_minor": 5
}
