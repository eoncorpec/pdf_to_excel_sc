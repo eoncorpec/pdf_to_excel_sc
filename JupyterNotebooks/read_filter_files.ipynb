{
 "cells": [
  {
   "cell_type": "code",
   "execution_count": 1,
   "id": "bb82282e",
   "metadata": {},
   "outputs": [],
   "source": [
    "import os"
   ]
  },
  {
   "cell_type": "code",
   "execution_count": 2,
   "id": "a1de9898",
   "metadata": {},
   "outputs": [],
   "source": [
    "# Ruta de la carpeta que contiene los archivos\n",
    "path_dir = '../Inputs/'\n",
    "# Lista de archivos\n",
    "files = os.listdir(path_dir)"
   ]
  },
  {
   "cell_type": "code",
   "execution_count": 3,
   "id": "60025d82",
   "metadata": {},
   "outputs": [
    {
     "data": {
      "text/plain": [
       "['DocEconomica_384_3_1_1_2020_12_31_00_00_00_000.pdf',\n",
       " 'DocEconomica_384_3_1_1_2021_12_31_00_00_00_000.pdf',\n",
       " 'DocEconomica_384_3_1_1_2022_12_31_00_00_00_000.pdf',\n",
       " 'DocEconomica_384_3_1_A_2020_12_31_00_00_00_000.pdf',\n",
       " 'DocEconomica_384_3_1_A_2021_12_31_00_00_00_000.pdf',\n",
       " 'DocEconomica_384_3_1_A_2022_12_31_00_00_00_000.pdf',\n",
       " 'DocEconomica_384_3_1_B_2020_12_31_00_00_00_000.pdf',\n",
       " 'DocEconomica_384_3_1_B_2021_12_31_00_00_00_000.pdf',\n",
       " 'DocEconomica_384_3_1_B_2022_12_31_00_00_00_000.pdf',\n",
       " 'DocEconomica_384_3_1_C_2020_12_31_00_00_00_000.pdf',\n",
       " 'DocEconomica_384_3_1_C_2022_12_31_00_00_00_000.pdf',\n",
       " 'DocEconomica_384_3_1_H_2020_12_31_00_00_00_000.pdf',\n",
       " 'DocEconomica_384_3_1_H_2021_12_31_00_00_00_000.pdf',\n",
       " 'DocEconomica_384_3_1_H_2022_12_31_00_00_00_000.pdf',\n",
       " 'DocEconomica_384_3_1_I_2020_12_31_00_00_00_000.pdf',\n",
       " 'DocEconomica_384_3_1_I_2021_12_31_00_00_00_000.pdf',\n",
       " 'DocEconomica_384_3_1_I_2022_12_31_00_00_00_000.pdf',\n",
       " 'DocEconomica_384_3_1_J_2020_12_31_00_00_00_000.pdf',\n",
       " 'DocEconomica_384_3_1_J_2021_12_31_00_00_00_000.pdf',\n",
       " 'DocEconomica_384_3_1_J_2022_12_31_00_00_00_000.pdf',\n",
       " 'DocEconomica_384_3_1_K_2021_12_31_00_00_00_000.pdf',\n",
       " 'DocEconomica_384_3_1_K_2022_12_31_00_00_00_000.pdf',\n",
       " 'DocEconomica_6712_3_1_1_2020_12_31_00_00_00_000.pdf',\n",
       " 'DocEconomica_6712_3_1_1_2021_12_31_00_00_00_000.pdf',\n",
       " 'DocEconomica_6712_3_1_1_2022_12_31_00_00_00_000.pdf',\n",
       " 'DocEconomica_6712_3_1_A_2022_12_31_00_00_00_000.pdf',\n",
       " 'DocEconomica_6712_3_1_B_2020_12_31_00_00_00_000.pdf',\n",
       " 'DocEconomica_6712_3_1_B_2021_12_31_00_00_00_000.pdf',\n",
       " 'DocEconomica_6712_3_1_B_2022_12_31_00_00_00_000.pdf',\n",
       " 'DocEconomica_6712_3_1_C_2020_12_31_00_00_00_000.pdf',\n",
       " 'DocEconomica_384_3_1_C_2021_12_31_00_00_00_000.pdf',\n",
       " 'DocEconomica_384_3_1_K_2020_12_31_00_00_00_000.pdf',\n",
       " 'DocEconomica_6712_3_1_C_2021_12_31_00_00_00_000.pdf',\n",
       " 'DocEconomica_6712_3_1_C_2022_12_31_00_00_00_000.pdf',\n",
       " 'DocEconomica_736008_3_1_1_2021_12_31_00_00_00_000.pdf',\n",
       " 'DocEconomica_736008_3_1_1_2022_01_31_11_46_22_593.pdf',\n",
       " 'DocEconomica_736008_3_1_1_2022_12_31_00_00_00_000.pdf',\n",
       " 'DocEconomica_736008_3_1_A_2021_12_31_00_00_00_000.pdf',\n",
       " 'DocEconomica_736008_3_1_A_2022_01_31_11_46_22_593.pdf',\n",
       " 'DocEconomica_736008_3_1_A_2022_12_31_00_00_00_000.pdf',\n",
       " 'DocEconomica_736008_3_1_B_2021_12_31_00_00_00_000.pdf',\n",
       " 'DocEconomica_736008_3_1_B_2022_12_31_00_00_00_000.pdf',\n",
       " 'DocEconomica_736008_3_1_C_2021_12_31_00_00_00_000.pdf',\n",
       " 'DocEconomica_736008_3_1_C_2022_12_31_00_00_00_000.pdf']"
      ]
     },
     "execution_count": 3,
     "metadata": {},
     "output_type": "execute_result"
    }
   ],
   "source": [
    "# solo verificación no necesario\n",
    "files"
   ]
  },
  {
   "cell_type": "code",
   "execution_count": 4,
   "id": "5e05b1b5",
   "metadata": {},
   "outputs": [],
   "source": [
    "#filtrar los archivos solo los que contengan información publicada el _12_31_ \n",
    "files_filter = list(filter(lambda x: '_12_31_' in x, files))"
   ]
  },
  {
   "cell_type": "code",
   "execution_count": 5,
   "id": "3eba8801",
   "metadata": {},
   "outputs": [
    {
     "data": {
      "text/plain": [
       "['DocEconomica_384_3_1_1_2020_12_31_00_00_00_000.pdf',\n",
       " 'DocEconomica_384_3_1_1_2021_12_31_00_00_00_000.pdf',\n",
       " 'DocEconomica_384_3_1_1_2022_12_31_00_00_00_000.pdf',\n",
       " 'DocEconomica_384_3_1_A_2020_12_31_00_00_00_000.pdf',\n",
       " 'DocEconomica_384_3_1_A_2021_12_31_00_00_00_000.pdf',\n",
       " 'DocEconomica_384_3_1_A_2022_12_31_00_00_00_000.pdf',\n",
       " 'DocEconomica_384_3_1_B_2020_12_31_00_00_00_000.pdf',\n",
       " 'DocEconomica_384_3_1_B_2021_12_31_00_00_00_000.pdf',\n",
       " 'DocEconomica_384_3_1_B_2022_12_31_00_00_00_000.pdf',\n",
       " 'DocEconomica_384_3_1_C_2020_12_31_00_00_00_000.pdf',\n",
       " 'DocEconomica_384_3_1_C_2022_12_31_00_00_00_000.pdf',\n",
       " 'DocEconomica_384_3_1_H_2020_12_31_00_00_00_000.pdf',\n",
       " 'DocEconomica_384_3_1_H_2021_12_31_00_00_00_000.pdf',\n",
       " 'DocEconomica_384_3_1_H_2022_12_31_00_00_00_000.pdf',\n",
       " 'DocEconomica_384_3_1_I_2020_12_31_00_00_00_000.pdf',\n",
       " 'DocEconomica_384_3_1_I_2021_12_31_00_00_00_000.pdf',\n",
       " 'DocEconomica_384_3_1_I_2022_12_31_00_00_00_000.pdf',\n",
       " 'DocEconomica_384_3_1_J_2020_12_31_00_00_00_000.pdf',\n",
       " 'DocEconomica_384_3_1_J_2021_12_31_00_00_00_000.pdf',\n",
       " 'DocEconomica_384_3_1_J_2022_12_31_00_00_00_000.pdf',\n",
       " 'DocEconomica_384_3_1_K_2021_12_31_00_00_00_000.pdf',\n",
       " 'DocEconomica_384_3_1_K_2022_12_31_00_00_00_000.pdf',\n",
       " 'DocEconomica_6712_3_1_1_2020_12_31_00_00_00_000.pdf',\n",
       " 'DocEconomica_6712_3_1_1_2021_12_31_00_00_00_000.pdf',\n",
       " 'DocEconomica_6712_3_1_1_2022_12_31_00_00_00_000.pdf',\n",
       " 'DocEconomica_6712_3_1_A_2022_12_31_00_00_00_000.pdf',\n",
       " 'DocEconomica_6712_3_1_B_2020_12_31_00_00_00_000.pdf',\n",
       " 'DocEconomica_6712_3_1_B_2021_12_31_00_00_00_000.pdf',\n",
       " 'DocEconomica_6712_3_1_B_2022_12_31_00_00_00_000.pdf',\n",
       " 'DocEconomica_6712_3_1_C_2020_12_31_00_00_00_000.pdf',\n",
       " 'DocEconomica_384_3_1_C_2021_12_31_00_00_00_000.pdf',\n",
       " 'DocEconomica_384_3_1_K_2020_12_31_00_00_00_000.pdf',\n",
       " 'DocEconomica_6712_3_1_C_2021_12_31_00_00_00_000.pdf',\n",
       " 'DocEconomica_6712_3_1_C_2022_12_31_00_00_00_000.pdf',\n",
       " 'DocEconomica_736008_3_1_1_2021_12_31_00_00_00_000.pdf',\n",
       " 'DocEconomica_736008_3_1_1_2022_12_31_00_00_00_000.pdf',\n",
       " 'DocEconomica_736008_3_1_A_2021_12_31_00_00_00_000.pdf',\n",
       " 'DocEconomica_736008_3_1_A_2022_12_31_00_00_00_000.pdf',\n",
       " 'DocEconomica_736008_3_1_B_2021_12_31_00_00_00_000.pdf',\n",
       " 'DocEconomica_736008_3_1_B_2022_12_31_00_00_00_000.pdf',\n",
       " 'DocEconomica_736008_3_1_C_2021_12_31_00_00_00_000.pdf',\n",
       " 'DocEconomica_736008_3_1_C_2022_12_31_00_00_00_000.pdf']"
      ]
     },
     "execution_count": 5,
     "metadata": {},
     "output_type": "execute_result"
    }
   ],
   "source": [
    "# solo verificación no necesario\n",
    "files_filter"
   ]
  },
  {
   "cell_type": "code",
   "execution_count": 6,
   "id": "89ed5f6e",
   "metadata": {},
   "outputs": [],
   "source": [
    "def extraer_expediente(nombre_archivo):\n",
    "    return nombre_archivo.split(\"_\")[1]"
   ]
  },
  {
   "cell_type": "code",
   "execution_count": 7,
   "id": "9c215e85",
   "metadata": {},
   "outputs": [
    {
     "name": "stdout",
     "output_type": "stream",
     "text": [
      "384\n",
      "384\n",
      "384\n",
      "384\n",
      "384\n",
      "384\n",
      "384\n",
      "384\n",
      "384\n",
      "384\n",
      "384\n",
      "384\n",
      "384\n",
      "384\n",
      "384\n",
      "384\n",
      "384\n",
      "384\n",
      "384\n",
      "384\n",
      "384\n",
      "384\n",
      "6712\n",
      "6712\n",
      "6712\n",
      "6712\n",
      "6712\n",
      "6712\n",
      "6712\n",
      "6712\n",
      "384\n",
      "384\n",
      "6712\n",
      "6712\n",
      "736008\n",
      "736008\n",
      "736008\n",
      "736008\n",
      "736008\n",
      "736008\n",
      "736008\n",
      "736008\n"
     ]
    }
   ],
   "source": [
    "for file in files_filter:\n",
    "    print(extraer_expediente(file))"
   ]
  },
  {
   "cell_type": "code",
   "execution_count": 8,
   "id": "4d0021e5",
   "metadata": {},
   "outputs": [
    {
     "data": {
      "text/html": [
       "<div>\n",
       "<style scoped>\n",
       "    .dataframe tbody tr th:only-of-type {\n",
       "        vertical-align: middle;\n",
       "    }\n",
       "\n",
       "    .dataframe tbody tr th {\n",
       "        vertical-align: top;\n",
       "    }\n",
       "\n",
       "    .dataframe thead th {\n",
       "        text-align: right;\n",
       "    }\n",
       "</style>\n",
       "<table border=\"1\" class=\"dataframe\">\n",
       "  <thead>\n",
       "    <tr style=\"text-align: right;\">\n",
       "      <th>CUENTA</th>\n",
       "      <th>ACTIVO</th>\n",
       "      <th>ACTIVO CORRIENTE</th>\n",
       "      <th>EFECTIVO Y EQUIVALENTES DE EFECTIVO</th>\n",
       "      <th>CAJA</th>\n",
       "      <th>INSTITUCIONES FINANCIERAS PÚBLICAS</th>\n",
       "      <th>INSTITUCIONES FINANCIERAS PRIVADAS</th>\n",
       "      <th>ACTIVOS FINANCIEROS</th>\n",
       "      <th>ACTIVOS FINANCIEROS A VALOR RAZONABLE CON CAMB...</th>\n",
       "      <th>RENTA VARIABLE</th>\n",
       "      <th>ACCIONES Y PARTICIPACIONES</th>\n",
       "    </tr>\n",
       "  </thead>\n",
       "  <tbody>\n",
       "    <tr>\n",
       "      <th>0</th>\n",
       "      <td>2.480404e+09</td>\n",
       "      <td>7.016353e+08</td>\n",
       "      <td>7283311.87</td>\n",
       "      <td>1342366.55</td>\n",
       "      <td>0.0</td>\n",
       "      <td>5940945.32</td>\n",
       "      <td>3.909202e+08</td>\n",
       "      <td>2.209742e+08</td>\n",
       "      <td>0.0</td>\n",
       "      <td>0.0</td>\n",
       "    </tr>\n",
       "  </tbody>\n",
       "</table>\n",
       "</div>"
      ],
      "text/plain": [
       "CUENTA        ACTIVO  ACTIVO CORRIENTE  EFECTIVO Y EQUIVALENTES DE EFECTIVO  \\\n",
       "0       2.480404e+09      7.016353e+08                           7283311.87   \n",
       "\n",
       "CUENTA        CAJA  INSTITUCIONES FINANCIERAS PÚBLICAS  \\\n",
       "0       1342366.55                                 0.0   \n",
       "\n",
       "CUENTA  INSTITUCIONES FINANCIERAS PRIVADAS  ACTIVOS FINANCIEROS  \\\n",
       "0                               5940945.32         3.909202e+08   \n",
       "\n",
       "CUENTA  ACTIVOS FINANCIEROS A VALOR RAZONABLE CON CAMB...  RENTA VARIABLE  \\\n",
       "0                                            2.209742e+08             0.0   \n",
       "\n",
       "CUENTA  ACCIONES Y PARTICIPACIONES  \n",
       "0                              0.0  "
      ]
     },
     "execution_count": 8,
     "metadata": {},
     "output_type": "execute_result"
    }
   ],
   "source": [
    "import pandas as pd\n",
    "\n",
    "# Ejemplo de dataframe\n",
    "data = {'CUENTA': ['ACTIVO', 'ACTIVO CORRIENTE', 'EFECTIVO Y EQUIVALENTES DE EFECTIVO', 'CAJA', 'INSTITUCIONES FINANCIERAS PÚBLICAS', 'INSTITUCIONES FINANCIERAS PRIVADAS', 'ACTIVOS FINANCIEROS', 'ACTIVOS FINANCIEROS A VALOR RAZONABLE CON CAMB...', 'RENTA VARIABLE', 'ACCIONES Y PARTICIPACIONES'],\n",
    "        'VALOR (En USD$)': [2480403867.05, 701635273.03, 7283311.87, 1342366.55, 0.0, 5940945.32, 390920239.29, 220974204.08, 0.0, 0.0]}\n",
    "\n",
    "df = pd.DataFrame(data)\n",
    "\n",
    "# Usar CUENTA como índice y transponer el dataframe\n",
    "df_transposed = df.set_index('CUENTA').T\n",
    "df_transposed = df_transposed.reset_index(drop=True)\n",
    "# Imprimir el nuevo dataframe transpuesto\n",
    "df_transposed.index.name = None\n",
    "df_transposed"
   ]
  },
  {
   "cell_type": "code",
   "execution_count": 9,
   "id": "eb9e8d01",
   "metadata": {},
   "outputs": [
    {
     "name": "stdout",
     "output_type": "stream",
     "text": [
      "384 2020\n",
      "384 2021\n",
      "384 2022\n",
      "384 2020\n",
      "384 2021\n",
      "384 2022\n",
      "384 2020\n",
      "384 2021\n",
      "384 2022\n",
      "384 2020\n",
      "384 2022\n",
      "384 2020\n",
      "384 2021\n",
      "384 2022\n",
      "384 2020\n",
      "384 2021\n",
      "384 2022\n",
      "384 2020\n",
      "384 2021\n",
      "384 2022\n",
      "384 2021\n",
      "384 2022\n",
      "6712 2020\n",
      "6712 2021\n",
      "6712 2022\n",
      "6712 2022\n",
      "6712 2020\n",
      "6712 2021\n",
      "6712 2022\n",
      "6712 2020\n",
      "384 2021\n",
      "384 2020\n",
      "6712 2021\n",
      "6712 2022\n",
      "736008 2021\n",
      "736008 2022\n",
      "736008 2022\n",
      "736008 2021\n",
      "736008 2022\n",
      "736008 2022\n",
      "736008 2021\n",
      "736008 2022\n",
      "736008 2021\n",
      "736008 2022\n"
     ]
    }
   ],
   "source": [
    "#Aqui extraer expediente y año\n",
    "for file in files:\n",
    "    print(file.split(\"_\")[1],file.split(\"_\")[-7])"
   ]
  },
  {
   "cell_type": "code",
   "execution_count": 10,
   "id": "cdf7878a",
   "metadata": {},
   "outputs": [
    {
     "data": {
      "text/plain": [
       "['DocEconomica_384_3_1_1_2020_12_31_00_00_00_000.pdf',\n",
       " 'DocEconomica_384_3_1_1_2021_12_31_00_00_00_000.pdf',\n",
       " 'DocEconomica_384_3_1_1_2022_12_31_00_00_00_000.pdf',\n",
       " 'DocEconomica_384_3_1_A_2020_12_31_00_00_00_000.pdf',\n",
       " 'DocEconomica_384_3_1_A_2021_12_31_00_00_00_000.pdf',\n",
       " 'DocEconomica_384_3_1_A_2022_12_31_00_00_00_000.pdf',\n",
       " 'DocEconomica_384_3_1_B_2020_12_31_00_00_00_000.pdf',\n",
       " 'DocEconomica_384_3_1_B_2021_12_31_00_00_00_000.pdf',\n",
       " 'DocEconomica_384_3_1_B_2022_12_31_00_00_00_000.pdf',\n",
       " 'DocEconomica_384_3_1_C_2020_12_31_00_00_00_000.pdf',\n",
       " 'DocEconomica_384_3_1_C_2022_12_31_00_00_00_000.pdf',\n",
       " 'DocEconomica_384_3_1_H_2020_12_31_00_00_00_000.pdf',\n",
       " 'DocEconomica_384_3_1_H_2021_12_31_00_00_00_000.pdf',\n",
       " 'DocEconomica_384_3_1_H_2022_12_31_00_00_00_000.pdf',\n",
       " 'DocEconomica_384_3_1_I_2020_12_31_00_00_00_000.pdf',\n",
       " 'DocEconomica_384_3_1_I_2021_12_31_00_00_00_000.pdf',\n",
       " 'DocEconomica_384_3_1_I_2022_12_31_00_00_00_000.pdf',\n",
       " 'DocEconomica_384_3_1_J_2020_12_31_00_00_00_000.pdf',\n",
       " 'DocEconomica_384_3_1_J_2021_12_31_00_00_00_000.pdf',\n",
       " 'DocEconomica_384_3_1_J_2022_12_31_00_00_00_000.pdf',\n",
       " 'DocEconomica_384_3_1_K_2021_12_31_00_00_00_000.pdf',\n",
       " 'DocEconomica_384_3_1_K_2022_12_31_00_00_00_000.pdf',\n",
       " 'DocEconomica_6712_3_1_1_2020_12_31_00_00_00_000.pdf',\n",
       " 'DocEconomica_6712_3_1_1_2021_12_31_00_00_00_000.pdf',\n",
       " 'DocEconomica_6712_3_1_1_2022_12_31_00_00_00_000.pdf',\n",
       " 'DocEconomica_6712_3_1_A_2022_12_31_00_00_00_000.pdf',\n",
       " 'DocEconomica_6712_3_1_B_2020_12_31_00_00_00_000.pdf',\n",
       " 'DocEconomica_6712_3_1_B_2021_12_31_00_00_00_000.pdf',\n",
       " 'DocEconomica_6712_3_1_B_2022_12_31_00_00_00_000.pdf',\n",
       " 'DocEconomica_6712_3_1_C_2020_12_31_00_00_00_000.pdf',\n",
       " 'DocEconomica_384_3_1_C_2021_12_31_00_00_00_000.pdf',\n",
       " 'DocEconomica_384_3_1_K_2020_12_31_00_00_00_000.pdf',\n",
       " 'DocEconomica_6712_3_1_C_2021_12_31_00_00_00_000.pdf',\n",
       " 'DocEconomica_6712_3_1_C_2022_12_31_00_00_00_000.pdf',\n",
       " 'DocEconomica_736008_3_1_1_2021_12_31_00_00_00_000.pdf',\n",
       " 'DocEconomica_736008_3_1_1_2022_01_31_11_46_22_593.pdf',\n",
       " 'DocEconomica_736008_3_1_1_2022_12_31_00_00_00_000.pdf',\n",
       " 'DocEconomica_736008_3_1_A_2021_12_31_00_00_00_000.pdf',\n",
       " 'DocEconomica_736008_3_1_A_2022_01_31_11_46_22_593.pdf',\n",
       " 'DocEconomica_736008_3_1_A_2022_12_31_00_00_00_000.pdf',\n",
       " 'DocEconomica_736008_3_1_B_2021_12_31_00_00_00_000.pdf',\n",
       " 'DocEconomica_736008_3_1_B_2022_12_31_00_00_00_000.pdf',\n",
       " 'DocEconomica_736008_3_1_C_2021_12_31_00_00_00_000.pdf',\n",
       " 'DocEconomica_736008_3_1_C_2022_12_31_00_00_00_000.pdf']"
      ]
     },
     "execution_count": 10,
     "metadata": {},
     "output_type": "execute_result"
    }
   ],
   "source": [
    "files"
   ]
  },
  {
   "cell_type": "code",
   "execution_count": 11,
   "id": "748874b5",
   "metadata": {},
   "outputs": [],
   "source": [
    "df_transposed.insert(0, \"Expediente\", file.split(\"_\")[1])\n",
    "df_transposed.insert(1, \"Año\", file.split(\"_\")[-7])"
   ]
  },
  {
   "cell_type": "code",
   "execution_count": 12,
   "id": "6d58c9af",
   "metadata": {},
   "outputs": [
    {
     "data": {
      "text/html": [
       "<div>\n",
       "<style scoped>\n",
       "    .dataframe tbody tr th:only-of-type {\n",
       "        vertical-align: middle;\n",
       "    }\n",
       "\n",
       "    .dataframe tbody tr th {\n",
       "        vertical-align: top;\n",
       "    }\n",
       "\n",
       "    .dataframe thead th {\n",
       "        text-align: right;\n",
       "    }\n",
       "</style>\n",
       "<table border=\"1\" class=\"dataframe\">\n",
       "  <thead>\n",
       "    <tr style=\"text-align: right;\">\n",
       "      <th>CUENTA</th>\n",
       "      <th>Expediente</th>\n",
       "      <th>Año</th>\n",
       "      <th>ACTIVO</th>\n",
       "      <th>ACTIVO CORRIENTE</th>\n",
       "      <th>EFECTIVO Y EQUIVALENTES DE EFECTIVO</th>\n",
       "      <th>CAJA</th>\n",
       "      <th>INSTITUCIONES FINANCIERAS PÚBLICAS</th>\n",
       "      <th>INSTITUCIONES FINANCIERAS PRIVADAS</th>\n",
       "      <th>ACTIVOS FINANCIEROS</th>\n",
       "      <th>ACTIVOS FINANCIEROS A VALOR RAZONABLE CON CAMB...</th>\n",
       "      <th>RENTA VARIABLE</th>\n",
       "      <th>ACCIONES Y PARTICIPACIONES</th>\n",
       "    </tr>\n",
       "  </thead>\n",
       "  <tbody>\n",
       "    <tr>\n",
       "      <th>0</th>\n",
       "      <td>736008</td>\n",
       "      <td>2022</td>\n",
       "      <td>2.480404e+09</td>\n",
       "      <td>7.016353e+08</td>\n",
       "      <td>7283311.87</td>\n",
       "      <td>1342366.55</td>\n",
       "      <td>0.0</td>\n",
       "      <td>5940945.32</td>\n",
       "      <td>3.909202e+08</td>\n",
       "      <td>2.209742e+08</td>\n",
       "      <td>0.0</td>\n",
       "      <td>0.0</td>\n",
       "    </tr>\n",
       "  </tbody>\n",
       "</table>\n",
       "</div>"
      ],
      "text/plain": [
       "CUENTA Expediente   Año        ACTIVO  ACTIVO CORRIENTE  \\\n",
       "0          736008  2022  2.480404e+09      7.016353e+08   \n",
       "\n",
       "CUENTA  EFECTIVO Y EQUIVALENTES DE EFECTIVO        CAJA  \\\n",
       "0                                7283311.87  1342366.55   \n",
       "\n",
       "CUENTA  INSTITUCIONES FINANCIERAS PÚBLICAS  \\\n",
       "0                                      0.0   \n",
       "\n",
       "CUENTA  INSTITUCIONES FINANCIERAS PRIVADAS  ACTIVOS FINANCIEROS  \\\n",
       "0                               5940945.32         3.909202e+08   \n",
       "\n",
       "CUENTA  ACTIVOS FINANCIEROS A VALOR RAZONABLE CON CAMB...  RENTA VARIABLE  \\\n",
       "0                                            2.209742e+08             0.0   \n",
       "\n",
       "CUENTA  ACCIONES Y PARTICIPACIONES  \n",
       "0                              0.0  "
      ]
     },
     "execution_count": 12,
     "metadata": {},
     "output_type": "execute_result"
    }
   ],
   "source": [
    "df_transposed"
   ]
  },
  {
   "cell_type": "code",
   "execution_count": null,
   "id": "ba4e4b11",
   "metadata": {},
   "outputs": [],
   "source": []
  }
 ],
 "metadata": {
  "kernelspec": {
   "display_name": "Python 3 (ipykernel)",
   "language": "python",
   "name": "python3"
  },
  "language_info": {
   "codemirror_mode": {
    "name": "ipython",
    "version": 3
   },
   "file_extension": ".py",
   "mimetype": "text/x-python",
   "name": "python",
   "nbconvert_exporter": "python",
   "pygments_lexer": "ipython3",
   "version": "3.9.2"
  }
 },
 "nbformat": 4,
 "nbformat_minor": 5
}
