{
 "cells": [
  {
   "cell_type": "code",
   "execution_count": 1,
   "metadata": {},
   "outputs": [
    {
     "name": "stderr",
     "output_type": "stream",
     "text": [
      "C:\\Users\\Usuario\\AppData\\Local\\Temp\\ipykernel_19840\\3008533230.py:1: DeprecationWarning: \n",
      "Pyarrow will become a required dependency of pandas in the next major release of pandas (pandas 3.0),\n",
      "(to allow more performant data types, such as the Arrow string type, and better interoperability with other libraries)\n",
      "but was not found to be installed on your system.\n",
      "If this would cause problems for you,\n",
      "please provide us feedback at https://github.com/pandas-dev/pandas/issues/54466\n",
      "        \n",
      "  import pandas as pd\n"
     ]
    }
   ],
   "source": [
    "import pandas as pd\n",
    "import numpy as np\n",
    "import tabula"
   ]
  },
  {
   "cell_type": "code",
   "execution_count": 2,
   "metadata": {},
   "outputs": [
    {
     "name": "stderr",
     "output_type": "stream",
     "text": [
      "Error importing jpype dependencies. Fallback to subprocess.\n",
      "No module named 'jpype'\n"
     ]
    }
   ],
   "source": [
    "pdf=\"../Inputs/Docs2LaFavorita/economica_1.PDF\"\n",
    "dfHeader = tabula.read_pdf(pdf, pages=1, area=(21,20,131,572), lattice=True, output_format=\"dataframe\", encoding='latin-1')"
   ]
  },
  {
   "cell_type": "code",
   "execution_count": 3,
   "metadata": {},
   "outputs": [
    {
     "data": {
      "text/html": [
       "<div>\n",
       "<style scoped>\n",
       "    .dataframe tbody tr th:only-of-type {\n",
       "        vertical-align: middle;\n",
       "    }\n",
       "\n",
       "    .dataframe tbody tr th {\n",
       "        vertical-align: top;\n",
       "    }\n",
       "\n",
       "    .dataframe thead th {\n",
       "        text-align: right;\n",
       "    }\n",
       "</style>\n",
       "<table border=\"1\" class=\"dataframe\">\n",
       "  <thead>\n",
       "    <tr style=\"text-align: right;\">\n",
       "      <th></th>\n",
       "      <th>Unnamed: 0</th>\n",
       "      <th>RAZÓN SOCIAL</th>\n",
       "      <th>CORPORACION FAVORITA C.A.</th>\n",
       "    </tr>\n",
       "  </thead>\n",
       "  <tbody>\n",
       "    <tr>\n",
       "      <th>0</th>\n",
       "      <td>DIRECCIÓN</td>\n",
       "      <td>AV.ELOY ALFARO Y AVIGIRAS No. N52-468 BARRIO:</td>\n",
       "      <td>NaN</td>\n",
       "    </tr>\n",
       "    <tr>\n",
       "      <th>1</th>\n",
       "      <td>EXPEDIENTE</td>\n",
       "      <td>384</td>\n",
       "      <td>NaN</td>\n",
       "    </tr>\n",
       "    <tr>\n",
       "      <th>2</th>\n",
       "      <td>RUC</td>\n",
       "      <td>1790016919001</td>\n",
       "      <td>NaN</td>\n",
       "    </tr>\n",
       "    <tr>\n",
       "      <th>3</th>\n",
       "      <td>AÑO</td>\n",
       "      <td>2019</td>\n",
       "      <td>NaN</td>\n",
       "    </tr>\n",
       "    <tr>\n",
       "      <th>4</th>\n",
       "      <td>FORMULARIO</td>\n",
       "      <td>SCV.NIIF.384.2019.1</td>\n",
       "      <td>NaN</td>\n",
       "    </tr>\n",
       "    <tr>\n",
       "      <th>5</th>\n",
       "      <td>FECHA DE LA JUNTA QUE APROBÓ LOS ESTADOS FINAN...</td>\n",
       "      <td>Mar 27, 20</td>\n",
       "      <td>NaN</td>\n",
       "    </tr>\n",
       "    <tr>\n",
       "      <th>6</th>\n",
       "      <td>ESTADO DE SITUACIÓN FINANCIERA</td>\n",
       "      <td>NaN</td>\n",
       "      <td>NaN</td>\n",
       "    </tr>\n",
       "  </tbody>\n",
       "</table>\n",
       "</div>"
      ],
      "text/plain": [
       "                                          Unnamed: 0  \\\n",
       "0                                          DIRECCIÓN   \n",
       "1                                         EXPEDIENTE   \n",
       "2                                                RUC   \n",
       "3                                                AÑO   \n",
       "4                                         FORMULARIO   \n",
       "5  FECHA DE LA JUNTA QUE APROBÓ LOS ESTADOS FINAN...   \n",
       "6                     ESTADO DE SITUACIÓN FINANCIERA   \n",
       "\n",
       "                                    RAZÓN SOCIAL  CORPORACION FAVORITA C.A.  \n",
       "0  AV.ELOY ALFARO Y AVIGIRAS No. N52-468 BARRIO:                        NaN  \n",
       "1                                            384                        NaN  \n",
       "2                                  1790016919001                        NaN  \n",
       "3                                           2019                        NaN  \n",
       "4                            SCV.NIIF.384.2019.1                        NaN  \n",
       "5                                     Mar 27, 20                        NaN  \n",
       "6                                            NaN                        NaN  "
      ]
     },
     "execution_count": 3,
     "metadata": {},
     "output_type": "execute_result"
    }
   ],
   "source": [
    "dafHeader = dfHeader[0]\n",
    "dafHeader\n"
   ]
  },
  {
   "cell_type": "code",
   "execution_count": 4,
   "metadata": {},
   "outputs": [
    {
     "data": {
      "text/html": [
       "<div>\n",
       "<style scoped>\n",
       "    .dataframe tbody tr th:only-of-type {\n",
       "        vertical-align: middle;\n",
       "    }\n",
       "\n",
       "    .dataframe tbody tr th {\n",
       "        vertical-align: top;\n",
       "    }\n",
       "\n",
       "    .dataframe thead th {\n",
       "        text-align: right;\n",
       "    }\n",
       "</style>\n",
       "<table border=\"1\" class=\"dataframe\">\n",
       "  <thead>\n",
       "    <tr style=\"text-align: right;\">\n",
       "      <th></th>\n",
       "      <th>RAZÓN SOCIAL</th>\n",
       "      <th>CORPORACION FAVORITA C.A.</th>\n",
       "    </tr>\n",
       "  </thead>\n",
       "  <tbody>\n",
       "    <tr>\n",
       "      <th>0</th>\n",
       "      <td>DIRECCIÓN</td>\n",
       "      <td>AV.ELOY ALFARO Y AVIGIRAS No. N52-468 BARRIO:</td>\n",
       "    </tr>\n",
       "    <tr>\n",
       "      <th>1</th>\n",
       "      <td>EXPEDIENTE</td>\n",
       "      <td>384</td>\n",
       "    </tr>\n",
       "    <tr>\n",
       "      <th>2</th>\n",
       "      <td>RUC</td>\n",
       "      <td>1790016919001</td>\n",
       "    </tr>\n",
       "    <tr>\n",
       "      <th>3</th>\n",
       "      <td>AÑO</td>\n",
       "      <td>2019</td>\n",
       "    </tr>\n",
       "    <tr>\n",
       "      <th>4</th>\n",
       "      <td>FORMULARIO</td>\n",
       "      <td>SCV.NIIF.384.2019.1</td>\n",
       "    </tr>\n",
       "    <tr>\n",
       "      <th>5</th>\n",
       "      <td>FECHA DE LA JUNTA QUE APROBÓ LOS ESTADOS FINAN...</td>\n",
       "      <td>Mar 27, 20</td>\n",
       "    </tr>\n",
       "    <tr>\n",
       "      <th>6</th>\n",
       "      <td>ESTADO DE SITUACIÓN FINANCIERA</td>\n",
       "      <td>NaN</td>\n",
       "    </tr>\n",
       "  </tbody>\n",
       "</table>\n",
       "</div>"
      ],
      "text/plain": [
       "                                        RAZÓN SOCIAL  \\\n",
       "0                                          DIRECCIÓN   \n",
       "1                                         EXPEDIENTE   \n",
       "2                                                RUC   \n",
       "3                                                AÑO   \n",
       "4                                         FORMULARIO   \n",
       "5  FECHA DE LA JUNTA QUE APROBÓ LOS ESTADOS FINAN...   \n",
       "6                     ESTADO DE SITUACIÓN FINANCIERA   \n",
       "\n",
       "                       CORPORACION FAVORITA C.A.  \n",
       "0  AV.ELOY ALFARO Y AVIGIRAS No. N52-468 BARRIO:  \n",
       "1                                            384  \n",
       "2                                  1790016919001  \n",
       "3                                           2019  \n",
       "4                            SCV.NIIF.384.2019.1  \n",
       "5                                     Mar 27, 20  \n",
       "6                                            NaN  "
      ]
     },
     "execution_count": 4,
     "metadata": {},
     "output_type": "execute_result"
    }
   ],
   "source": [
    "dafHeader.rename(inplace=True, columns={\"Unnamed: 0\":\"RAZÓN SOCIAL\", \"RAZÓN SOCIAL\":\"CORPORACION FAVORITA C.A.\", \"CORPORACION FAVORITA C.A.\":\"ds\"})\n",
    "dafHeader.drop([\"ds\"], axis=1, inplace=True)\n",
    "dafHeader\n"
   ]
  },
  {
   "cell_type": "code",
   "execution_count": null,
   "metadata": {},
   "outputs": [],
   "source": []
  },
  {
   "cell_type": "code",
   "execution_count": null,
   "metadata": {},
   "outputs": [],
   "source": []
  },
  {
   "cell_type": "code",
   "execution_count": 5,
   "metadata": {},
   "outputs": [],
   "source": [
    "df1 = pd.read_csv(\"./tabula-economica_1.csv\")"
   ]
  },
  {
   "cell_type": "code",
   "execution_count": 6,
   "metadata": {},
   "outputs": [
    {
     "data": {
      "text/html": [
       "<div>\n",
       "<style scoped>\n",
       "    .dataframe tbody tr th:only-of-type {\n",
       "        vertical-align: middle;\n",
       "    }\n",
       "\n",
       "    .dataframe tbody tr th {\n",
       "        vertical-align: top;\n",
       "    }\n",
       "\n",
       "    .dataframe thead th {\n",
       "        text-align: right;\n",
       "    }\n",
       "</style>\n",
       "<table border=\"1\" class=\"dataframe\">\n",
       "  <thead>\n",
       "    <tr style=\"text-align: right;\">\n",
       "      <th></th>\n",
       "      <th>Unnamed: 0</th>\n",
       "      <th>ESTADO DE SITUACIÓN FINANCIERA</th>\n",
       "      <th>Unnamed: 2</th>\n",
       "      <th>Unnamed: 3</th>\n",
       "    </tr>\n",
       "  </thead>\n",
       "  <tbody>\n",
       "    <tr>\n",
       "      <th>0</th>\n",
       "      <td>NaN</td>\n",
       "      <td>CUENTA</td>\n",
       "      <td>CÓDIGO</td>\n",
       "      <td>VALOR (En USD$)</td>\n",
       "    </tr>\n",
       "    <tr>\n",
       "      <th>1</th>\n",
       "      <td>NaN</td>\n",
       "      <td>ACTIVO</td>\n",
       "      <td>1</td>\n",
       "      <td>2051462083.01</td>\n",
       "    </tr>\n",
       "    <tr>\n",
       "      <th>2</th>\n",
       "      <td>NaN</td>\n",
       "      <td>ACTIVO CORRIENTE</td>\n",
       "      <td>101</td>\n",
       "      <td>647041354.64</td>\n",
       "    </tr>\n",
       "    <tr>\n",
       "      <th>3</th>\n",
       "      <td>NaN</td>\n",
       "      <td>EFECTIVO Y EQUIVALENTES DE EFECTIVO</td>\n",
       "      <td>10101</td>\n",
       "      <td>15474979.89</td>\n",
       "    </tr>\n",
       "    <tr>\n",
       "      <th>4</th>\n",
       "      <td>NaN</td>\n",
       "      <td>CAJA</td>\n",
       "      <td>1010101</td>\n",
       "      <td>15474979.89</td>\n",
       "    </tr>\n",
       "    <tr>\n",
       "      <th>...</th>\n",
       "      <td>...</td>\n",
       "      <td>...</td>\n",
       "      <td>...</td>\n",
       "      <td>...</td>\n",
       "    </tr>\n",
       "    <tr>\n",
       "      <th>380</th>\n",
       "      <td>NaN</td>\n",
       "      <td>RESULTADOS DEL EJERCICIO</td>\n",
       "      <td>307</td>\n",
       "      <td>155764232.67</td>\n",
       "    </tr>\n",
       "    <tr>\n",
       "      <th>381</th>\n",
       "      <td>NaN</td>\n",
       "      <td>GANANCIA NETA DEL PERIODO</td>\n",
       "      <td>30701</td>\n",
       "      <td>155764232.67</td>\n",
       "    </tr>\n",
       "    <tr>\n",
       "      <th>382</th>\n",
       "      <td>NaN</td>\n",
       "      <td>(-) PÉRDIDA NETA DEL PERIODO</td>\n",
       "      <td>30702</td>\n",
       "      <td>0.00</td>\n",
       "    </tr>\n",
       "    <tr>\n",
       "      <th>383</th>\n",
       "      <td>NaN</td>\n",
       "      <td>ESTADO DE SITUACIÓN FINANCIERA</td>\n",
       "      <td>NaN</td>\n",
       "      <td>NaN</td>\n",
       "    </tr>\n",
       "    <tr>\n",
       "      <th>384</th>\n",
       "      <td>CUENTA</td>\n",
       "      <td>NaN</td>\n",
       "      <td>CÓDIGO</td>\n",
       "      <td>VALOR (En USD$)</td>\n",
       "    </tr>\n",
       "  </tbody>\n",
       "</table>\n",
       "<p>385 rows × 4 columns</p>\n",
       "</div>"
      ],
      "text/plain": [
       "    Unnamed: 0       ESTADO DE SITUACIÓN FINANCIERA Unnamed: 2  \\\n",
       "0          NaN                               CUENTA     CÓDIGO   \n",
       "1          NaN                               ACTIVO          1   \n",
       "2          NaN                     ACTIVO CORRIENTE        101   \n",
       "3          NaN  EFECTIVO Y EQUIVALENTES DE EFECTIVO      10101   \n",
       "4          NaN                                 CAJA    1010101   \n",
       "..         ...                                  ...        ...   \n",
       "380        NaN             RESULTADOS DEL EJERCICIO        307   \n",
       "381        NaN            GANANCIA NETA DEL PERIODO      30701   \n",
       "382        NaN         (-) PÉRDIDA NETA DEL PERIODO      30702   \n",
       "383        NaN       ESTADO DE SITUACIÓN FINANCIERA        NaN   \n",
       "384     CUENTA                                  NaN     CÓDIGO   \n",
       "\n",
       "          Unnamed: 3  \n",
       "0    VALOR (En USD$)  \n",
       "1      2051462083.01  \n",
       "2       647041354.64  \n",
       "3        15474979.89  \n",
       "4        15474979.89  \n",
       "..               ...  \n",
       "380     155764232.67  \n",
       "381     155764232.67  \n",
       "382             0.00  \n",
       "383              NaN  \n",
       "384  VALOR (En USD$)  \n",
       "\n",
       "[385 rows x 4 columns]"
      ]
     },
     "execution_count": 6,
     "metadata": {},
     "output_type": "execute_result"
    }
   ],
   "source": [
    "df1"
   ]
  },
  {
   "cell_type": "code",
   "execution_count": 7,
   "metadata": {},
   "outputs": [
    {
     "name": "stdout",
     "output_type": "stream",
     "text": [
      "<class 'pandas.core.frame.DataFrame'>\n",
      "RangeIndex: 385 entries, 0 to 384\n",
      "Data columns (total 4 columns):\n",
      " #   Column                          Non-Null Count  Dtype \n",
      "---  ------                          --------------  ----- \n",
      " 0   Unnamed: 0                      2 non-null      object\n",
      " 1   ESTADO DE SITUACIÓN FINANCIERA  384 non-null    object\n",
      " 2   Unnamed: 2                      378 non-null    object\n",
      " 3   Unnamed: 3                      376 non-null    object\n",
      "dtypes: object(4)\n",
      "memory usage: 12.2+ KB\n"
     ]
    }
   ],
   "source": [
    "df1.info()"
   ]
  },
  {
   "cell_type": "code",
   "execution_count": 8,
   "metadata": {},
   "outputs": [
    {
     "data": {
      "text/html": [
       "<div>\n",
       "<style scoped>\n",
       "    .dataframe tbody tr th:only-of-type {\n",
       "        vertical-align: middle;\n",
       "    }\n",
       "\n",
       "    .dataframe tbody tr th {\n",
       "        vertical-align: top;\n",
       "    }\n",
       "\n",
       "    .dataframe thead th {\n",
       "        text-align: right;\n",
       "    }\n",
       "</style>\n",
       "<table border=\"1\" class=\"dataframe\">\n",
       "  <thead>\n",
       "    <tr style=\"text-align: right;\">\n",
       "      <th></th>\n",
       "      <th>Unnamed: 0</th>\n",
       "      <th>ESTADO DE SITUACIÓN FINANCIERA</th>\n",
       "      <th>Unnamed: 2</th>\n",
       "      <th>Unnamed: 3</th>\n",
       "    </tr>\n",
       "  </thead>\n",
       "  <tbody>\n",
       "    <tr>\n",
       "      <th>count</th>\n",
       "      <td>2</td>\n",
       "      <td>384</td>\n",
       "      <td>378</td>\n",
       "      <td>376</td>\n",
       "    </tr>\n",
       "    <tr>\n",
       "      <th>unique</th>\n",
       "      <td>2</td>\n",
       "      <td>241</td>\n",
       "      <td>371</td>\n",
       "      <td>78</td>\n",
       "    </tr>\n",
       "    <tr>\n",
       "      <th>top</th>\n",
       "      <td>CUOTAS DE FONDOS COLECTIVOS</td>\n",
       "      <td>OTROS</td>\n",
       "      <td>CÓDIGO</td>\n",
       "      <td>0.00</td>\n",
       "    </tr>\n",
       "    <tr>\n",
       "      <th>freq</th>\n",
       "      <td>1</td>\n",
       "      <td>14</td>\n",
       "      <td>8</td>\n",
       "      <td>280</td>\n",
       "    </tr>\n",
       "  </tbody>\n",
       "</table>\n",
       "</div>"
      ],
      "text/plain": [
       "                         Unnamed: 0 ESTADO DE SITUACIÓN FINANCIERA Unnamed: 2  \\\n",
       "count                             2                            384        378   \n",
       "unique                            2                            241        371   \n",
       "top     CUOTAS DE FONDOS COLECTIVOS                          OTROS     CÓDIGO   \n",
       "freq                              1                             14          8   \n",
       "\n",
       "       Unnamed: 3  \n",
       "count         376  \n",
       "unique         78  \n",
       "top          0.00  \n",
       "freq          280  "
      ]
     },
     "execution_count": 8,
     "metadata": {},
     "output_type": "execute_result"
    }
   ],
   "source": [
    "df1.describe()"
   ]
  },
  {
   "cell_type": "code",
   "execution_count": 9,
   "metadata": {},
   "outputs": [
    {
     "name": "stdout",
     "output_type": "stream",
     "text": [
      "<class 'pandas.core.frame.DataFrame'>\n",
      "RangeIndex: 385 entries, 0 to 384\n",
      "Data columns (total 4 columns):\n",
      " #   Column                          Non-Null Count  Dtype \n",
      "---  ------                          --------------  ----- \n",
      " 0   Unnamed: 0                      2 non-null      object\n",
      " 1   ESTADO DE SITUACIÓN FINANCIERA  384 non-null    object\n",
      " 2   Unnamed: 2                      378 non-null    object\n",
      " 3   Unnamed: 3                      376 non-null    object\n",
      "dtypes: object(4)\n",
      "memory usage: 12.2+ KB\n",
      "None\n",
      "                         Unnamed: 0 ESTADO DE SITUACIÓN FINANCIERA Unnamed: 2  \\\n",
      "count                             2                            384        378   \n",
      "unique                            2                            241        371   \n",
      "top     CUOTAS DE FONDOS COLECTIVOS                          OTROS     CÓDIGO   \n",
      "freq                              1                             14          8   \n",
      "\n",
      "       Unnamed: 3  \n",
      "count         376  \n",
      "unique         78  \n",
      "top          0.00  \n",
      "freq          280  \n"
     ]
    }
   ],
   "source": [
    "df1.dropna(axis=0, how='all', inplace=True)\n",
    "print(df1.info())\n",
    "print(df1.describe())"
   ]
  },
  {
   "cell_type": "code",
   "execution_count": 10,
   "metadata": {},
   "outputs": [
    {
     "data": {
      "text/html": [
       "<div>\n",
       "<style scoped>\n",
       "    .dataframe tbody tr th:only-of-type {\n",
       "        vertical-align: middle;\n",
       "    }\n",
       "\n",
       "    .dataframe tbody tr th {\n",
       "        vertical-align: top;\n",
       "    }\n",
       "\n",
       "    .dataframe thead th {\n",
       "        text-align: right;\n",
       "    }\n",
       "</style>\n",
       "<table border=\"1\" class=\"dataframe\">\n",
       "  <thead>\n",
       "    <tr style=\"text-align: right;\">\n",
       "      <th></th>\n",
       "      <th>ESTADO DE SITUACIÓN FINANCIERA</th>\n",
       "      <th>Unnamed: 3</th>\n",
       "    </tr>\n",
       "  </thead>\n",
       "  <tbody>\n",
       "    <tr>\n",
       "      <th>0</th>\n",
       "      <td>CUENTA</td>\n",
       "      <td>VALOR (En USD$)</td>\n",
       "    </tr>\n",
       "    <tr>\n",
       "      <th>1</th>\n",
       "      <td>ACTIVO</td>\n",
       "      <td>2051462083.01</td>\n",
       "    </tr>\n",
       "    <tr>\n",
       "      <th>2</th>\n",
       "      <td>ACTIVO CORRIENTE</td>\n",
       "      <td>647041354.64</td>\n",
       "    </tr>\n",
       "    <tr>\n",
       "      <th>3</th>\n",
       "      <td>EFECTIVO Y EQUIVALENTES DE EFECTIVO</td>\n",
       "      <td>15474979.89</td>\n",
       "    </tr>\n",
       "    <tr>\n",
       "      <th>4</th>\n",
       "      <td>CAJA</td>\n",
       "      <td>15474979.89</td>\n",
       "    </tr>\n",
       "    <tr>\n",
       "      <th>...</th>\n",
       "      <td>...</td>\n",
       "      <td>...</td>\n",
       "    </tr>\n",
       "    <tr>\n",
       "      <th>380</th>\n",
       "      <td>RESULTADOS DEL EJERCICIO</td>\n",
       "      <td>155764232.67</td>\n",
       "    </tr>\n",
       "    <tr>\n",
       "      <th>381</th>\n",
       "      <td>GANANCIA NETA DEL PERIODO</td>\n",
       "      <td>155764232.67</td>\n",
       "    </tr>\n",
       "    <tr>\n",
       "      <th>382</th>\n",
       "      <td>(-) PÉRDIDA NETA DEL PERIODO</td>\n",
       "      <td>0.00</td>\n",
       "    </tr>\n",
       "    <tr>\n",
       "      <th>383</th>\n",
       "      <td>ESTADO DE SITUACIÓN FINANCIERA</td>\n",
       "      <td>NaN</td>\n",
       "    </tr>\n",
       "    <tr>\n",
       "      <th>384</th>\n",
       "      <td>NaN</td>\n",
       "      <td>VALOR (En USD$)</td>\n",
       "    </tr>\n",
       "  </tbody>\n",
       "</table>\n",
       "<p>385 rows × 2 columns</p>\n",
       "</div>"
      ],
      "text/plain": [
       "          ESTADO DE SITUACIÓN FINANCIERA       Unnamed: 3\n",
       "0                                 CUENTA  VALOR (En USD$)\n",
       "1                                 ACTIVO    2051462083.01\n",
       "2                       ACTIVO CORRIENTE     647041354.64\n",
       "3    EFECTIVO Y EQUIVALENTES DE EFECTIVO      15474979.89\n",
       "4                                   CAJA      15474979.89\n",
       "..                                   ...              ...\n",
       "380             RESULTADOS DEL EJERCICIO     155764232.67\n",
       "381            GANANCIA NETA DEL PERIODO     155764232.67\n",
       "382         (-) PÉRDIDA NETA DEL PERIODO             0.00\n",
       "383       ESTADO DE SITUACIÓN FINANCIERA              NaN\n",
       "384                                  NaN  VALOR (En USD$)\n",
       "\n",
       "[385 rows x 2 columns]"
      ]
     },
     "execution_count": 10,
     "metadata": {},
     "output_type": "execute_result"
    }
   ],
   "source": [
    "df1.drop([\"Unnamed: 0\",\"Unnamed: 2\"], axis=1, inplace=True)\n",
    "df1"
   ]
  },
  {
   "cell_type": "code",
   "execution_count": 11,
   "metadata": {},
   "outputs": [],
   "source": [
    "#df = df[df[\"Si /PERIN FENDENCIA\"].notna()]\n",
    "#df1 = df1[~df1.apply( lambda row: \"ESTADO DE SITUACIÓN FINANCIERA\" in row.values, axis=1)]\n",
    "\n",
    "df1 = df1[~df1.apply(lambda row: any(x in row.values for x in [\"ESTADO DE SITUACIÓN FINANCIERA\", \"VALOR (En USD$)\"]), axis=1)]\n"
   ]
  },
  {
   "cell_type": "code",
   "execution_count": 12,
   "metadata": {},
   "outputs": [
    {
     "data": {
      "text/html": [
       "<div>\n",
       "<style scoped>\n",
       "    .dataframe tbody tr th:only-of-type {\n",
       "        vertical-align: middle;\n",
       "    }\n",
       "\n",
       "    .dataframe tbody tr th {\n",
       "        vertical-align: top;\n",
       "    }\n",
       "\n",
       "    .dataframe thead th {\n",
       "        text-align: right;\n",
       "    }\n",
       "</style>\n",
       "<table border=\"1\" class=\"dataframe\">\n",
       "  <thead>\n",
       "    <tr style=\"text-align: right;\">\n",
       "      <th></th>\n",
       "      <th>ESTADO DE SITUACIÓN FINANCIERA</th>\n",
       "      <th>Unnamed: 3</th>\n",
       "    </tr>\n",
       "  </thead>\n",
       "  <tbody>\n",
       "    <tr>\n",
       "      <th>1</th>\n",
       "      <td>ACTIVO</td>\n",
       "      <td>2051462083.01</td>\n",
       "    </tr>\n",
       "    <tr>\n",
       "      <th>2</th>\n",
       "      <td>ACTIVO CORRIENTE</td>\n",
       "      <td>647041354.64</td>\n",
       "    </tr>\n",
       "    <tr>\n",
       "      <th>3</th>\n",
       "      <td>EFECTIVO Y EQUIVALENTES DE EFECTIVO</td>\n",
       "      <td>15474979.89</td>\n",
       "    </tr>\n",
       "    <tr>\n",
       "      <th>4</th>\n",
       "      <td>CAJA</td>\n",
       "      <td>15474979.89</td>\n",
       "    </tr>\n",
       "    <tr>\n",
       "      <th>5</th>\n",
       "      <td>INSTITUCIONES FINANCIERAS PÚBLICAS</td>\n",
       "      <td>0.00</td>\n",
       "    </tr>\n",
       "    <tr>\n",
       "      <th>...</th>\n",
       "      <td>...</td>\n",
       "      <td>...</td>\n",
       "    </tr>\n",
       "    <tr>\n",
       "      <th>378</th>\n",
       "      <td>RESERVA POR VALUACIÓN</td>\n",
       "      <td>0.00</td>\n",
       "    </tr>\n",
       "    <tr>\n",
       "      <th>379</th>\n",
       "      <td>SUPERÁVIT POR REVALUACIÓN DE INVERSIONES</td>\n",
       "      <td>0.00</td>\n",
       "    </tr>\n",
       "    <tr>\n",
       "      <th>380</th>\n",
       "      <td>RESULTADOS DEL EJERCICIO</td>\n",
       "      <td>155764232.67</td>\n",
       "    </tr>\n",
       "    <tr>\n",
       "      <th>381</th>\n",
       "      <td>GANANCIA NETA DEL PERIODO</td>\n",
       "      <td>155764232.67</td>\n",
       "    </tr>\n",
       "    <tr>\n",
       "      <th>382</th>\n",
       "      <td>(-) PÉRDIDA NETA DEL PERIODO</td>\n",
       "      <td>0.00</td>\n",
       "    </tr>\n",
       "  </tbody>\n",
       "</table>\n",
       "<p>370 rows × 2 columns</p>\n",
       "</div>"
      ],
      "text/plain": [
       "               ESTADO DE SITUACIÓN FINANCIERA     Unnamed: 3\n",
       "1                                      ACTIVO  2051462083.01\n",
       "2                            ACTIVO CORRIENTE   647041354.64\n",
       "3         EFECTIVO Y EQUIVALENTES DE EFECTIVO    15474979.89\n",
       "4                                        CAJA    15474979.89\n",
       "5          INSTITUCIONES FINANCIERAS PÚBLICAS           0.00\n",
       "..                                        ...            ...\n",
       "378                     RESERVA POR VALUACIÓN           0.00\n",
       "379  SUPERÁVIT POR REVALUACIÓN DE INVERSIONES           0.00\n",
       "380                  RESULTADOS DEL EJERCICIO   155764232.67\n",
       "381                 GANANCIA NETA DEL PERIODO   155764232.67\n",
       "382              (-) PÉRDIDA NETA DEL PERIODO           0.00\n",
       "\n",
       "[370 rows x 2 columns]"
      ]
     },
     "execution_count": 12,
     "metadata": {},
     "output_type": "execute_result"
    }
   ],
   "source": [
    "df1"
   ]
  },
  {
   "cell_type": "code",
   "execution_count": 13,
   "metadata": {},
   "outputs": [
    {
     "name": "stdout",
     "output_type": "stream",
     "text": [
      "<class 'pandas.core.frame.DataFrame'>\n",
      "Index: 370 entries, 1 to 382\n",
      "Data columns (total 2 columns):\n",
      " #   Column                          Non-Null Count  Dtype \n",
      "---  ------                          --------------  ----- \n",
      " 0   ESTADO DE SITUACIÓN FINANCIERA  370 non-null    object\n",
      " 1   Unnamed: 3                      368 non-null    object\n",
      "dtypes: object(2)\n",
      "memory usage: 8.7+ KB\n"
     ]
    }
   ],
   "source": [
    "df1.info()"
   ]
  },
  {
   "cell_type": "code",
   "execution_count": 14,
   "metadata": {},
   "outputs": [
    {
     "name": "stdout",
     "output_type": "stream",
     "text": [
      "                        ESTADO DE SITUACIÓN FINANCIERA Unnamed: 3\n",
      "48                                         10102020102        NaN\n",
      "353  PATRIMONIO NETO ATRIBUIBLE A LOS PROPIETARIOS ...        NaN\n"
     ]
    }
   ],
   "source": [
    "#df1.isna()\n",
    "print( df1[df1.isna().any(axis=1)] )"
   ]
  },
  {
   "cell_type": "code",
   "execution_count": 15,
   "metadata": {},
   "outputs": [
    {
     "name": "stderr",
     "output_type": "stream",
     "text": [
      "C:\\Users\\Usuario\\AppData\\Local\\Temp\\ipykernel_19840\\3485047828.py:1: SettingWithCopyWarning: \n",
      "A value is trying to be set on a copy of a slice from a DataFrame\n",
      "\n",
      "See the caveats in the documentation: https://pandas.pydata.org/pandas-docs/stable/user_guide/indexing.html#returning-a-view-versus-a-copy\n",
      "  df1.rename(inplace=True, columns={\"ESTADO DE SITUACIÓN FINANCIERA\":\"CUENTA\", \"Unnamed: 3\":\"VALOR EN USD\"})\n"
     ]
    }
   ],
   "source": [
    "df1.rename(inplace=True, columns={\"ESTADO DE SITUACIÓN FINANCIERA\":\"CUENTA\", \"Unnamed: 3\":\"VALOR EN USD\"})"
   ]
  },
  {
   "cell_type": "code",
   "execution_count": 16,
   "metadata": {},
   "outputs": [
    {
     "name": "stdout",
     "output_type": "stream",
     "text": [
      "                                                CUENTA VALOR EN USD\n",
      "48                                         10102020102          NaN\n",
      "353  PATRIMONIO NETO ATRIBUIBLE A LOS PROPIETARIOS ...          NaN\n"
     ]
    }
   ],
   "source": [
    "print( df1[df1.isna().any(axis=1)] )"
   ]
  },
  {
   "cell_type": "code",
   "execution_count": 17,
   "metadata": {},
   "outputs": [
    {
     "name": "stderr",
     "output_type": "stream",
     "text": [
      "C:\\Users\\Usuario\\AppData\\Local\\Temp\\ipykernel_19840\\1986241795.py:1: SettingWithCopyWarning: \n",
      "A value is trying to be set on a copy of a slice from a DataFrame\n",
      "\n",
      "See the caveats in the documentation: https://pandas.pydata.org/pandas-docs/stable/user_guide/indexing.html#returning-a-view-versus-a-copy\n",
      "  df1.replace(\"10102020102\", \"CUOTAS DE FONDOS COLECTIVOS\", inplace=True)\n"
     ]
    }
   ],
   "source": [
    "\n",
    "df1.replace(\"10102020102\", \"CUOTAS DE FONDOS COLECTIVOS\", inplace=True)"
   ]
  },
  {
   "cell_type": "markdown",
   "metadata": {},
   "source": []
  },
  {
   "cell_type": "code",
   "execution_count": 18,
   "metadata": {},
   "outputs": [
    {
     "name": "stdout",
     "output_type": "stream",
     "text": [
      "                                                CUENTA VALOR EN USD\n",
      "48                         CUOTAS DE FONDOS COLECTIVOS          NaN\n",
      "353  PATRIMONIO NETO ATRIBUIBLE A LOS PROPIETARIOS ...          NaN\n"
     ]
    }
   ],
   "source": [
    "print( df1[df1.isna().any(axis=1)] )"
   ]
  },
  {
   "cell_type": "code",
   "execution_count": 19,
   "metadata": {},
   "outputs": [
    {
     "data": {
      "text/plain": [
       "Index([11, 48], dtype='int64')"
      ]
     },
     "execution_count": 19,
     "metadata": {},
     "output_type": "execute_result"
    }
   ],
   "source": [
    "df1[df1[\"CUENTA\"] == \"CUOTAS DE FONDOS COLECTIVOS\"].index"
   ]
  },
  {
   "cell_type": "code",
   "execution_count": 20,
   "metadata": {},
   "outputs": [
    {
     "name": "stderr",
     "output_type": "stream",
     "text": [
      "C:\\Users\\Usuario\\AppData\\Local\\Temp\\ipykernel_19840\\3262647507.py:1: FutureWarning: A value is trying to be set on a copy of a DataFrame or Series through chained assignment using an inplace method.\n",
      "The behavior will change in pandas 3.0. This inplace method will never work because the intermediate object on which we are setting values always behaves as a copy.\n",
      "\n",
      "For example, when doing 'df[col].method(value, inplace=True)', try using 'df.method({col: value}, inplace=True)' or df[col] = df[col].method(value) instead, to perform the operation inplace on the original object.\n",
      "\n",
      "\n",
      "  df1.loc[48].fillna(0, inplace=True)\n"
     ]
    },
    {
     "data": {
      "text/plain": [
       "CUENTA          CUOTAS DE FONDOS COLECTIVOS\n",
       "VALOR EN USD                              0\n",
       "Name: 48, dtype: object"
      ]
     },
     "execution_count": 20,
     "metadata": {},
     "output_type": "execute_result"
    }
   ],
   "source": [
    "df1.loc[48].fillna(0, inplace=True)\n",
    "df1.iloc[47]"
   ]
  },
  {
   "cell_type": "code",
   "execution_count": 21,
   "metadata": {},
   "outputs": [
    {
     "data": {
      "text/html": [
       "<div>\n",
       "<style scoped>\n",
       "    .dataframe tbody tr th:only-of-type {\n",
       "        vertical-align: middle;\n",
       "    }\n",
       "\n",
       "    .dataframe tbody tr th {\n",
       "        vertical-align: top;\n",
       "    }\n",
       "\n",
       "    .dataframe thead th {\n",
       "        text-align: right;\n",
       "    }\n",
       "</style>\n",
       "<table border=\"1\" class=\"dataframe\">\n",
       "  <thead>\n",
       "    <tr style=\"text-align: right;\">\n",
       "      <th></th>\n",
       "      <th>CUENTA</th>\n",
       "      <th>VALOR EN USD</th>\n",
       "    </tr>\n",
       "  </thead>\n",
       "  <tbody>\n",
       "    <tr>\n",
       "      <th>1</th>\n",
       "      <td>ACTIVO</td>\n",
       "      <td>2051462083.01</td>\n",
       "    </tr>\n",
       "    <tr>\n",
       "      <th>2</th>\n",
       "      <td>ACTIVO CORRIENTE</td>\n",
       "      <td>647041354.64</td>\n",
       "    </tr>\n",
       "    <tr>\n",
       "      <th>3</th>\n",
       "      <td>EFECTIVO Y EQUIVALENTES DE EFECTIVO</td>\n",
       "      <td>15474979.89</td>\n",
       "    </tr>\n",
       "    <tr>\n",
       "      <th>4</th>\n",
       "      <td>CAJA</td>\n",
       "      <td>15474979.89</td>\n",
       "    </tr>\n",
       "    <tr>\n",
       "      <th>5</th>\n",
       "      <td>INSTITUCIONES FINANCIERAS PÚBLICAS</td>\n",
       "      <td>0.00</td>\n",
       "    </tr>\n",
       "    <tr>\n",
       "      <th>6</th>\n",
       "      <td>INSTITUCIONES FINANCIERAS PRIVADAS</td>\n",
       "      <td>0.00</td>\n",
       "    </tr>\n",
       "    <tr>\n",
       "      <th>7</th>\n",
       "      <td>ACTIVOS FINANCIEROS</td>\n",
       "      <td>373195710.26</td>\n",
       "    </tr>\n",
       "  </tbody>\n",
       "</table>\n",
       "</div>"
      ],
      "text/plain": [
       "                                CUENTA   VALOR EN USD\n",
       "1                               ACTIVO  2051462083.01\n",
       "2                     ACTIVO CORRIENTE   647041354.64\n",
       "3  EFECTIVO Y EQUIVALENTES DE EFECTIVO    15474979.89\n",
       "4                                 CAJA    15474979.89\n",
       "5   INSTITUCIONES FINANCIERAS PÚBLICAS           0.00\n",
       "6   INSTITUCIONES FINANCIERAS PRIVADAS           0.00\n",
       "7                  ACTIVOS FINANCIEROS   373195710.26"
      ]
     },
     "execution_count": 21,
     "metadata": {},
     "output_type": "execute_result"
    }
   ],
   "source": [
    "df1.head(7)"
   ]
  },
  {
   "cell_type": "code",
   "execution_count": 22,
   "metadata": {},
   "outputs": [],
   "source": [
    "texto = df1[\"CUENTA\"].to_list()\n",
    "valores_list = df1[\"VALOR EN USD\"].to_list()\n"
   ]
  },
  {
   "cell_type": "code",
   "execution_count": 23,
   "metadata": {},
   "outputs": [],
   "source": [
    "valores = np.array(valores_list).reshape(1,-1)\n",
    "df2=pd.DataFrame(valores, columns=texto)"
   ]
  },
  {
   "cell_type": "code",
   "execution_count": 24,
   "metadata": {},
   "outputs": [
    {
     "data": {
      "text/html": [
       "<div>\n",
       "<style scoped>\n",
       "    .dataframe tbody tr th:only-of-type {\n",
       "        vertical-align: middle;\n",
       "    }\n",
       "\n",
       "    .dataframe tbody tr th {\n",
       "        vertical-align: top;\n",
       "    }\n",
       "\n",
       "    .dataframe thead th {\n",
       "        text-align: right;\n",
       "    }\n",
       "</style>\n",
       "<table border=\"1\" class=\"dataframe\">\n",
       "  <thead>\n",
       "    <tr style=\"text-align: right;\">\n",
       "      <th></th>\n",
       "      <th>ACTIVO</th>\n",
       "      <th>ACTIVO CORRIENTE</th>\n",
       "      <th>EFECTIVO Y EQUIVALENTES DE EFECTIVO</th>\n",
       "      <th>CAJA</th>\n",
       "      <th>INSTITUCIONES FINANCIERAS PÚBLICAS</th>\n",
       "      <th>INSTITUCIONES FINANCIERAS PRIVADAS</th>\n",
       "      <th>ACTIVOS FINANCIEROS</th>\n",
       "      <th>ACTIVOS FINANCIEROS A VALOR RAZONABLE CON CAMBIOS EN RESULTADOS</th>\n",
       "      <th>RENTA VARIABLE</th>\n",
       "      <th>ACCIONES Y PARTICIPACIONES</th>\n",
       "      <th>...</th>\n",
       "      <th>GANANCIAS ACUMULADAS</th>\n",
       "      <th>(-) PÉRDIDAS ACUMULADAS</th>\n",
       "      <th>RESULTADOS ACUMULADOS PROVENIENTES DE LA ADOPCION POR PRIMERA VEZ DE LAS NIIF</th>\n",
       "      <th>RESERVA DE CAPITAL</th>\n",
       "      <th>RESERVA POR DONACIONES</th>\n",
       "      <th>RESERVA POR VALUACIÓN</th>\n",
       "      <th>SUPERÁVIT POR REVALUACIÓN DE INVERSIONES</th>\n",
       "      <th>RESULTADOS DEL EJERCICIO</th>\n",
       "      <th>GANANCIA NETA DEL PERIODO</th>\n",
       "      <th>(-) PÉRDIDA NETA DEL PERIODO</th>\n",
       "    </tr>\n",
       "  </thead>\n",
       "  <tbody>\n",
       "    <tr>\n",
       "      <th>0</th>\n",
       "      <td>2051462083.01</td>\n",
       "      <td>647041354.64</td>\n",
       "      <td>15474979.89</td>\n",
       "      <td>15474979.89</td>\n",
       "      <td>0.00</td>\n",
       "      <td>0.00</td>\n",
       "      <td>373195710.26</td>\n",
       "      <td>232941089.23</td>\n",
       "      <td>232941089.23</td>\n",
       "      <td>0.00</td>\n",
       "      <td>...</td>\n",
       "      <td>1048181.02</td>\n",
       "      <td>-1494335.03</td>\n",
       "      <td>70117017.87</td>\n",
       "      <td>28664218.97</td>\n",
       "      <td>0.00</td>\n",
       "      <td>0.00</td>\n",
       "      <td>0.00</td>\n",
       "      <td>155764232.67</td>\n",
       "      <td>155764232.67</td>\n",
       "      <td>0.00</td>\n",
       "    </tr>\n",
       "  </tbody>\n",
       "</table>\n",
       "<p>1 rows × 370 columns</p>\n",
       "</div>"
      ],
      "text/plain": [
       "          ACTIVO ACTIVO CORRIENTE EFECTIVO Y EQUIVALENTES DE EFECTIVO  \\\n",
       "0  2051462083.01     647041354.64                         15474979.89   \n",
       "\n",
       "          CAJA INSTITUCIONES FINANCIERAS PÚBLICAS  \\\n",
       "0  15474979.89                               0.00   \n",
       "\n",
       "  INSTITUCIONES FINANCIERAS PRIVADAS ACTIVOS FINANCIEROS  \\\n",
       "0                               0.00        373195710.26   \n",
       "\n",
       "  ACTIVOS FINANCIEROS A VALOR RAZONABLE CON CAMBIOS EN RESULTADOS  \\\n",
       "0                                       232941089.23                \n",
       "\n",
       "  RENTA VARIABLE ACCIONES Y PARTICIPACIONES  ... GANANCIAS ACUMULADAS  \\\n",
       "0   232941089.23                       0.00  ...           1048181.02   \n",
       "\n",
       "  (-) PÉRDIDAS ACUMULADAS  \\\n",
       "0             -1494335.03   \n",
       "\n",
       "  RESULTADOS ACUMULADOS PROVENIENTES DE LA ADOPCION POR PRIMERA VEZ DE LAS NIIF  \\\n",
       "0                                        70117017.87                              \n",
       "\n",
       "  RESERVA DE CAPITAL RESERVA POR DONACIONES RESERVA POR VALUACIÓN  \\\n",
       "0        28664218.97                   0.00                  0.00   \n",
       "\n",
       "  SUPERÁVIT POR REVALUACIÓN DE INVERSIONES RESULTADOS DEL EJERCICIO  \\\n",
       "0                                     0.00             155764232.67   \n",
       "\n",
       "  GANANCIA NETA DEL PERIODO (-) PÉRDIDA NETA DEL PERIODO  \n",
       "0              155764232.67                         0.00  \n",
       "\n",
       "[1 rows x 370 columns]"
      ]
     },
     "execution_count": 24,
     "metadata": {},
     "output_type": "execute_result"
    }
   ],
   "source": [
    "df2"
   ]
  },
  {
   "cell_type": "code",
   "execution_count": 25,
   "metadata": {},
   "outputs": [],
   "source": [
    "columns_names= [\"REPRESENTANTE LEGAL\",\"CONTADOR\"]\n",
    "pandas_options = {\"names\":columns_names}\n",
    "contador = tabula.read_pdf(pdf, pages=8, area=(605,11,672,405), lattice=False, output_format=\"dataframe\", encoding=\"latin-1\", multiple_tables=True, pandas_options=pandas_options)\n",
    "dafContador = contador[0]"
   ]
  },
  {
   "cell_type": "code",
   "execution_count": 26,
   "metadata": {},
   "outputs": [
    {
     "data": {
      "text/html": [
       "<div>\n",
       "<style scoped>\n",
       "    .dataframe tbody tr th:only-of-type {\n",
       "        vertical-align: middle;\n",
       "    }\n",
       "\n",
       "    .dataframe tbody tr th {\n",
       "        vertical-align: top;\n",
       "    }\n",
       "\n",
       "    .dataframe thead th {\n",
       "        text-align: right;\n",
       "    }\n",
       "</style>\n",
       "<table border=\"1\" class=\"dataframe\">\n",
       "  <thead>\n",
       "    <tr style=\"text-align: right;\">\n",
       "      <th></th>\n",
       "      <th>REPRESENTANTE LEGAL</th>\n",
       "      <th>CONTADOR</th>\n",
       "    </tr>\n",
       "  </thead>\n",
       "  <tbody>\n",
       "    <tr>\n",
       "      <th>0</th>\n",
       "      <td>REPRESENTANTE(S) LEGAL(ES)</td>\n",
       "      <td>CONTADOR</td>\n",
       "    </tr>\n",
       "    <tr>\n",
       "      <th>1</th>\n",
       "      <td>SAENZ MIÑO FERNANDO JOSE</td>\n",
       "      <td>bravo arellano jorge luis</td>\n",
       "    </tr>\n",
       "    <tr>\n",
       "      <th>2</th>\n",
       "      <td>1704239654</td>\n",
       "      <td>1708033251</td>\n",
       "    </tr>\n",
       "    <tr>\n",
       "      <th>3</th>\n",
       "      <td>NaN</td>\n",
       "      <td>NaN</td>\n",
       "    </tr>\n",
       "  </tbody>\n",
       "</table>\n",
       "</div>"
      ],
      "text/plain": [
       "          REPRESENTANTE LEGAL                   CONTADOR\n",
       "0  REPRESENTANTE(S) LEGAL(ES)                   CONTADOR\n",
       "1    SAENZ MIÑO FERNANDO JOSE  bravo arellano jorge luis\n",
       "2                  1704239654                 1708033251\n",
       "3                         NaN                        NaN"
      ]
     },
     "execution_count": 26,
     "metadata": {},
     "output_type": "execute_result"
    }
   ],
   "source": [
    "dafContador"
   ]
  },
  {
   "cell_type": "code",
   "execution_count": 27,
   "metadata": {},
   "outputs": [
    {
     "name": "stdout",
     "output_type": "stream",
     "text": [
      "4\n"
     ]
    }
   ],
   "source": [
    "print(len(dafContador))"
   ]
  },
  {
   "cell_type": "code",
   "execution_count": null,
   "metadata": {},
   "outputs": [],
   "source": []
  },
  {
   "cell_type": "code",
   "execution_count": 28,
   "metadata": {},
   "outputs": [],
   "source": [
    "with pd.ExcelWriter(\"../Outputs/Docs2LaFavorita/Economica_1/InfoEconomica1.xlsx\", engine=\"xlsxwriter\") as writer:\n",
    "    dafHeader.to_excel(writer, sheet_name=\"Encabezado\", index=False)\n",
    "    dafContador.to_excel(writer, sheet_name=\"Encabezado\", index=False, startrow=len(dafHeader)+2)\n",
    "    df2.to_excel(writer, sheet_name=\"Datos\", index=False)"
   ]
  },
  {
   "cell_type": "code",
   "execution_count": null,
   "metadata": {},
   "outputs": [],
   "source": []
  }
 ],
 "metadata": {
  "kernelspec": {
   "display_name": "Python 3",
   "language": "python",
   "name": "python3"
  },
  "language_info": {
   "codemirror_mode": {
    "name": "ipython",
    "version": 3
   },
   "file_extension": ".py",
   "mimetype": "text/x-python",
   "name": "python",
   "nbconvert_exporter": "python",
   "pygments_lexer": "ipython3",
   "version": "3.10.10"
  }
 },
 "nbformat": 4,
 "nbformat_minor": 2
}
