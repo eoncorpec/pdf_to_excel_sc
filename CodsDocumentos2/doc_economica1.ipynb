{
 "cells": [
  {
   "cell_type": "code",
   "execution_count": null,
   "metadata": {},
   "outputs": [],
   "source": [
    "import pandas as pd\n",
    "import numpy as np\n",
    "import tabula"
   ]
  },
  {
   "cell_type": "code",
   "execution_count": null,
   "metadata": {},
   "outputs": [],
   "source": [
    "pdf=\"../Inputs/Docs2LaFavorita/economica_1.PDF\"\n",
    "dfHeader = tabula.read_pdf(pdf, pages=1, area=(21,20,131,572), lattice=True, output_format=\"dataframe\", encoding='latin-1')"
   ]
  },
  {
   "cell_type": "code",
   "execution_count": null,
   "metadata": {},
   "outputs": [],
   "source": [
    "dafHeader = dfHeader[0]\n",
    "dafHeader\n"
   ]
  },
  {
   "cell_type": "code",
   "execution_count": null,
   "metadata": {},
   "outputs": [],
   "source": [
    "dafHeader.rename(inplace=True, columns={\"Unnamed: 0\":\"RAZÓN SOCIAL\", \"RAZÓN SOCIAL\":\"CORPORACION FAVORITA C.A.\", \"CORPORACION FAVORITA C.A.\":\"ds\"})\n",
    "dafHeader.drop([\"ds\"], axis=1, inplace=True)\n",
    "dafHeader\n"
   ]
  },
  {
   "cell_type": "code",
   "execution_count": null,
   "metadata": {},
   "outputs": [],
   "source": []
  },
  {
   "cell_type": "code",
   "execution_count": null,
   "metadata": {},
   "outputs": [],
   "source": []
  },
  {
   "cell_type": "code",
   "execution_count": null,
   "metadata": {},
   "outputs": [],
   "source": [
    "df1 = pd.read_csv(\"../Inputs/Docs2LaFavorita/tabula-economica_1.csv\")"
   ]
  },
  {
   "cell_type": "code",
   "execution_count": null,
   "metadata": {},
   "outputs": [],
   "source": [
    "df1"
   ]
  },
  {
   "cell_type": "code",
   "execution_count": null,
   "metadata": {},
   "outputs": [],
   "source": [
    "df1.info()"
   ]
  },
  {
   "cell_type": "code",
   "execution_count": null,
   "metadata": {},
   "outputs": [],
   "source": [
    "df1.describe()"
   ]
  },
  {
   "cell_type": "code",
   "execution_count": null,
   "metadata": {},
   "outputs": [],
   "source": [
    "df1.dropna(axis=0, how='all', inplace=True)\n",
    "print(df1.info())\n",
    "print(df1.describe())"
   ]
  },
  {
   "cell_type": "code",
   "execution_count": null,
   "metadata": {},
   "outputs": [],
   "source": [
    "df1.drop([\"Unnamed: 0\",\"Unnamed: 2\"], axis=1, inplace=True)\n",
    "df1"
   ]
  },
  {
   "cell_type": "code",
   "execution_count": null,
   "metadata": {},
   "outputs": [],
   "source": [
    "#df = df[df[\"Si /PERIN FENDENCIA\"].notna()]\n",
    "#df1 = df1[~df1.apply( lambda row: \"ESTADO DE SITUACIÓN FINANCIERA\" in row.values, axis=1)]\n",
    "\n",
    "df1 = df1[~df1.apply(lambda row: any(x in row.values for x in [\"ESTADO DE SITUACIÓN FINANCIERA\", \"VALOR (En USD$)\"]), axis=1)]\n"
   ]
  },
  {
   "cell_type": "code",
   "execution_count": null,
   "metadata": {},
   "outputs": [],
   "source": [
    "df1"
   ]
  },
  {
   "cell_type": "code",
   "execution_count": null,
   "metadata": {},
   "outputs": [],
   "source": [
    "df1.info()"
   ]
  },
  {
   "cell_type": "code",
   "execution_count": null,
   "metadata": {},
   "outputs": [],
   "source": [
    "#df1.isna()\n",
    "print( df1[df1.isna().any(axis=1)] )"
   ]
  },
  {
   "cell_type": "code",
   "execution_count": null,
   "metadata": {},
   "outputs": [],
   "source": [
    "df1.rename(inplace=True, columns={\"ESTADO DE SITUACIÓN FINANCIERA\":\"CUENTA\", \"Unnamed: 3\":\"VALOR EN USD\"})"
   ]
  },
  {
   "cell_type": "code",
   "execution_count": null,
   "metadata": {},
   "outputs": [],
   "source": [
    "print( df1[df1.isna().any(axis=1)] )"
   ]
  },
  {
   "cell_type": "code",
   "execution_count": null,
   "metadata": {},
   "outputs": [],
   "source": [
    "\n",
    "df1.replace(\"10102020102\", \"CUOTAS DE FONDOS COLECTIVOS\", inplace=True)"
   ]
  },
  {
   "cell_type": "markdown",
   "metadata": {},
   "source": []
  },
  {
   "cell_type": "code",
   "execution_count": null,
   "metadata": {},
   "outputs": [],
   "source": [
    "print( df1[df1.isna().any(axis=1)] )"
   ]
  },
  {
   "cell_type": "code",
   "execution_count": null,
   "metadata": {},
   "outputs": [],
   "source": [
    "df1[df1[\"CUENTA\"] == \"CUOTAS DE FONDOS COLECTIVOS\"].index"
   ]
  },
  {
   "cell_type": "code",
   "execution_count": null,
   "metadata": {},
   "outputs": [],
   "source": [
    "df1.loc[48].fillna(0, inplace=True)\n",
    "df1.iloc[47]"
   ]
  },
  {
   "cell_type": "code",
   "execution_count": null,
   "metadata": {},
   "outputs": [],
   "source": [
    "df1.head(7)"
   ]
  },
  {
   "cell_type": "code",
   "execution_count": null,
   "metadata": {},
   "outputs": [],
   "source": [
    "texto = df1[\"CUENTA\"].to_list()\n",
    "valores_list = df1[\"VALOR EN USD\"].to_list()\n"
   ]
  },
  {
   "cell_type": "code",
   "execution_count": null,
   "metadata": {},
   "outputs": [],
   "source": [
    "valores = np.array(valores_list).reshape(1,-1)\n",
    "df2=pd.DataFrame(valores, columns=texto)"
   ]
  },
  {
   "cell_type": "code",
   "execution_count": null,
   "metadata": {},
   "outputs": [],
   "source": [
    "df2"
   ]
  },
  {
   "cell_type": "code",
   "execution_count": null,
   "metadata": {},
   "outputs": [],
   "source": [
    "with pd.ExcelWriter(\"../Outputs/Docs2LaFavorita/Economica_1/InfoEconomica1.xlsx\", engine=\"xlsxwriter\") as writer:\n",
    "    dafHeader.to_excel(writer, sheet_name=\"Encabezado\", index=False)\n",
    "    df2.to_excel(writer, sheet_name=\"Datos\", index=False)"
   ]
  },
  {
   "cell_type": "code",
   "execution_count": null,
   "metadata": {},
   "outputs": [],
   "source": []
  }
 ],
 "metadata": {
  "kernelspec": {
   "display_name": "Python 3",
   "language": "python",
   "name": "python3"
  },
  "language_info": {
   "codemirror_mode": {
    "name": "ipython",
    "version": 3
   },
   "file_extension": ".py",
   "mimetype": "text/x-python",
   "name": "python",
   "nbconvert_exporter": "python",
   "pygments_lexer": "ipython3",
   "version": "3.10.10"
  }
 },
 "nbformat": 4,
 "nbformat_minor": 2
}
