{
 "cells": [
  {
   "cell_type": "code",
   "execution_count": 34,
   "id": "bb82282e",
   "metadata": {},
   "outputs": [],
   "source": [
    "import os"
   ]
  },
  {
   "cell_type": "code",
   "execution_count": 35,
   "id": "a1de9898",
   "metadata": {},
   "outputs": [],
   "source": [
    "# Ruta de la carpeta que contiene los archivos\n",
    "path_dir = 'Inputs/'\n",
    "# Lista de archivos\n",
    "files = os.listdir(path_dir)"
   ]
  },
  {
   "cell_type": "code",
   "execution_count": 36,
   "id": "60025d82",
   "metadata": {},
   "outputs": [
    {
     "data": {
      "text/plain": [
       "['DocEconomica_384_3_1_1_2020_12_31_00_00_00_000.pdf',\n",
       " 'DocEconomica_384_3_1_1_2021_12_31_00_00_00_000.pdf',\n",
       " 'DocEconomica_384_3_1_1_2022_12_31_00_00_00_000.pdf',\n",
       " 'DocEconomica_384_3_1_A_2020_12_31_00_00_00_000.pdf',\n",
       " 'DocEconomica_384_3_1_A_2021_12_31_00_00_00_000.pdf',\n",
       " 'DocEconomica_384_3_1_A_2022_12_31_00_00_00_000.pdf',\n",
       " 'DocEconomica_384_3_1_B_2020_12_31_00_00_00_000.pdf',\n",
       " 'DocEconomica_384_3_1_B_2021_12_31_00_00_00_000.pdf',\n",
       " 'DocEconomica_384_3_1_B_2022_12_31_00_00_00_000.pdf',\n",
       " 'DocEconomica_384_3_1_C_2020_12_31_00_00_00_000.pdf',\n",
       " 'DocEconomica_384_3_1_C_2022_12_31_00_00_00_000.pdf',\n",
       " 'DocEconomica_384_3_1_H_2020_12_31_00_00_00_000.pdf',\n",
       " 'DocEconomica_384_3_1_H_2021_12_31_00_00_00_000.pdf',\n",
       " 'DocEconomica_384_3_1_H_2022_12_31_00_00_00_000.pdf',\n",
       " 'DocEconomica_384_3_1_I_2020_12_31_00_00_00_000.pdf',\n",
       " 'DocEconomica_384_3_1_I_2021_12_31_00_00_00_000.pdf',\n",
       " 'DocEconomica_384_3_1_I_2022_12_31_00_00_00_000.pdf',\n",
       " 'DocEconomica_384_3_1_J_2020_12_31_00_00_00_000.pdf',\n",
       " 'DocEconomica_384_3_1_J_2021_12_31_00_00_00_000.pdf',\n",
       " 'DocEconomica_384_3_1_J_2022_12_31_00_00_00_000.pdf',\n",
       " 'DocEconomica_384_3_1_K_2021_12_31_00_00_00_000.pdf',\n",
       " 'DocEconomica_384_3_1_K_2022_12_31_00_00_00_000.pdf',\n",
       " 'DocEconomica_6712_3_1_1_2020_12_31_00_00_00_000.pdf',\n",
       " 'DocEconomica_6712_3_1_1_2021_12_31_00_00_00_000.pdf',\n",
       " 'DocEconomica_6712_3_1_1_2022_12_31_00_00_00_000.pdf',\n",
       " 'DocEconomica_6712_3_1_A_2022_12_31_00_00_00_000.pdf',\n",
       " 'DocEconomica_6712_3_1_B_2020_12_31_00_00_00_000.pdf',\n",
       " 'DocEconomica_6712_3_1_B_2021_12_31_00_00_00_000.pdf',\n",
       " 'DocEconomica_6712_3_1_B_2022_12_31_00_00_00_000.pdf',\n",
       " 'DocEconomica_6712_3_1_C_2020_12_31_00_00_00_000.pdf',\n",
       " 'DocEconomica_384_3_1_C_2021_12_31_00_00_00_000.pdf',\n",
       " 'DocEconomica_384_3_1_K_2020_12_31_00_00_00_000.pdf',\n",
       " 'DocEconomica_6712_3_1_C_2021_12_31_00_00_00_000.pdf',\n",
       " 'DocEconomica_6712_3_1_C_2022_12_31_00_00_00_000.pdf',\n",
       " 'DocEconomica_736008_3_1_1_2021_12_31_00_00_00_000.pdf',\n",
       " 'DocEconomica_736008_3_1_1_2022_01_31_11_46_22_593.pdf',\n",
       " 'DocEconomica_736008_3_1_1_2022_12_31_00_00_00_000.pdf',\n",
       " 'DocEconomica_736008_3_1_A_2021_12_31_00_00_00_000.pdf',\n",
       " 'DocEconomica_736008_3_1_A_2022_01_31_11_46_22_593.pdf',\n",
       " 'DocEconomica_736008_3_1_A_2022_12_31_00_00_00_000.pdf',\n",
       " 'DocEconomica_736008_3_1_B_2021_12_31_00_00_00_000.pdf',\n",
       " 'DocEconomica_736008_3_1_B_2022_12_31_00_00_00_000.pdf',\n",
       " 'DocEconomica_736008_3_1_C_2021_12_31_00_00_00_000.pdf',\n",
       " 'DocEconomica_736008_3_1_C_2022_12_31_00_00_00_000.pdf']"
      ]
     },
     "execution_count": 36,
     "metadata": {},
     "output_type": "execute_result"
    }
   ],
   "source": [
    "# solo verificación no necesario\n",
    "files"
   ]
  },
  {
   "cell_type": "code",
   "execution_count": 37,
   "id": "5e05b1b5",
   "metadata": {},
   "outputs": [],
   "source": [
    "#filtrar los archivos solo los que contengan información publicada el _12_31_ \n",
    "files_filter = list(filter(lambda x: '_12_31_' in x, files))"
   ]
  },
  {
   "cell_type": "code",
   "execution_count": 38,
   "id": "3eba8801",
   "metadata": {},
   "outputs": [
    {
     "data": {
      "text/plain": [
       "['DocEconomica_384_3_1_1_2020_12_31_00_00_00_000.pdf',\n",
       " 'DocEconomica_384_3_1_1_2021_12_31_00_00_00_000.pdf',\n",
       " 'DocEconomica_384_3_1_1_2022_12_31_00_00_00_000.pdf',\n",
       " 'DocEconomica_384_3_1_A_2020_12_31_00_00_00_000.pdf',\n",
       " 'DocEconomica_384_3_1_A_2021_12_31_00_00_00_000.pdf',\n",
       " 'DocEconomica_384_3_1_A_2022_12_31_00_00_00_000.pdf',\n",
       " 'DocEconomica_384_3_1_B_2020_12_31_00_00_00_000.pdf',\n",
       " 'DocEconomica_384_3_1_B_2021_12_31_00_00_00_000.pdf',\n",
       " 'DocEconomica_384_3_1_B_2022_12_31_00_00_00_000.pdf',\n",
       " 'DocEconomica_384_3_1_C_2020_12_31_00_00_00_000.pdf',\n",
       " 'DocEconomica_384_3_1_C_2022_12_31_00_00_00_000.pdf',\n",
       " 'DocEconomica_384_3_1_H_2020_12_31_00_00_00_000.pdf',\n",
       " 'DocEconomica_384_3_1_H_2021_12_31_00_00_00_000.pdf',\n",
       " 'DocEconomica_384_3_1_H_2022_12_31_00_00_00_000.pdf',\n",
       " 'DocEconomica_384_3_1_I_2020_12_31_00_00_00_000.pdf',\n",
       " 'DocEconomica_384_3_1_I_2021_12_31_00_00_00_000.pdf',\n",
       " 'DocEconomica_384_3_1_I_2022_12_31_00_00_00_000.pdf',\n",
       " 'DocEconomica_384_3_1_J_2020_12_31_00_00_00_000.pdf',\n",
       " 'DocEconomica_384_3_1_J_2021_12_31_00_00_00_000.pdf',\n",
       " 'DocEconomica_384_3_1_J_2022_12_31_00_00_00_000.pdf',\n",
       " 'DocEconomica_384_3_1_K_2021_12_31_00_00_00_000.pdf',\n",
       " 'DocEconomica_384_3_1_K_2022_12_31_00_00_00_000.pdf',\n",
       " 'DocEconomica_6712_3_1_1_2020_12_31_00_00_00_000.pdf',\n",
       " 'DocEconomica_6712_3_1_1_2021_12_31_00_00_00_000.pdf',\n",
       " 'DocEconomica_6712_3_1_1_2022_12_31_00_00_00_000.pdf',\n",
       " 'DocEconomica_6712_3_1_A_2022_12_31_00_00_00_000.pdf',\n",
       " 'DocEconomica_6712_3_1_B_2020_12_31_00_00_00_000.pdf',\n",
       " 'DocEconomica_6712_3_1_B_2021_12_31_00_00_00_000.pdf',\n",
       " 'DocEconomica_6712_3_1_B_2022_12_31_00_00_00_000.pdf',\n",
       " 'DocEconomica_6712_3_1_C_2020_12_31_00_00_00_000.pdf',\n",
       " 'DocEconomica_384_3_1_C_2021_12_31_00_00_00_000.pdf',\n",
       " 'DocEconomica_384_3_1_K_2020_12_31_00_00_00_000.pdf',\n",
       " 'DocEconomica_6712_3_1_C_2021_12_31_00_00_00_000.pdf',\n",
       " 'DocEconomica_6712_3_1_C_2022_12_31_00_00_00_000.pdf',\n",
       " 'DocEconomica_736008_3_1_1_2021_12_31_00_00_00_000.pdf',\n",
       " 'DocEconomica_736008_3_1_1_2022_12_31_00_00_00_000.pdf',\n",
       " 'DocEconomica_736008_3_1_A_2021_12_31_00_00_00_000.pdf',\n",
       " 'DocEconomica_736008_3_1_A_2022_12_31_00_00_00_000.pdf',\n",
       " 'DocEconomica_736008_3_1_B_2021_12_31_00_00_00_000.pdf',\n",
       " 'DocEconomica_736008_3_1_B_2022_12_31_00_00_00_000.pdf',\n",
       " 'DocEconomica_736008_3_1_C_2021_12_31_00_00_00_000.pdf',\n",
       " 'DocEconomica_736008_3_1_C_2022_12_31_00_00_00_000.pdf']"
      ]
     },
     "execution_count": 38,
     "metadata": {},
     "output_type": "execute_result"
    }
   ],
   "source": [
    "# solo verificación no necesario\n",
    "files_filter"
   ]
  },
  {
   "cell_type": "code",
   "execution_count": 39,
   "id": "89ed5f6e",
   "metadata": {},
   "outputs": [],
   "source": [
    "def extraer_expediente(nombre_archivo):\n",
    "    return nombre_archivo.split(\"_\")[1]"
   ]
  },
  {
   "cell_type": "code",
   "execution_count": 40,
   "id": "9c215e85",
   "metadata": {},
   "outputs": [
    {
     "name": "stdout",
     "output_type": "stream",
     "text": [
      "384\n",
      "384\n",
      "384\n",
      "384\n",
      "384\n",
      "384\n",
      "384\n",
      "384\n",
      "384\n",
      "384\n",
      "384\n",
      "384\n",
      "384\n",
      "384\n",
      "384\n",
      "384\n",
      "384\n",
      "384\n",
      "384\n",
      "384\n",
      "384\n",
      "384\n",
      "6712\n",
      "6712\n",
      "6712\n",
      "6712\n",
      "6712\n",
      "6712\n",
      "6712\n",
      "6712\n",
      "384\n",
      "384\n",
      "6712\n",
      "6712\n",
      "736008\n",
      "736008\n",
      "736008\n",
      "736008\n",
      "736008\n",
      "736008\n",
      "736008\n",
      "736008\n"
     ]
    }
   ],
   "source": [
    "for file in files_filter:\n",
    "    print(extraer_expediente(file))"
   ]
  },
  {
   "cell_type": "code",
   "execution_count": null,
   "id": "4d0021e5",
   "metadata": {},
   "outputs": [],
   "source": []
  }
 ],
 "metadata": {
  "kernelspec": {
   "display_name": "Python 3 (ipykernel)",
   "language": "python",
   "name": "python3"
  },
  "language_info": {
   "codemirror_mode": {
    "name": "ipython",
    "version": 3
   },
   "file_extension": ".py",
   "mimetype": "text/x-python",
   "name": "python",
   "nbconvert_exporter": "python",
   "pygments_lexer": "ipython3",
   "version": "3.9.2"
  }
 },
 "nbformat": 4,
 "nbformat_minor": 5
}
